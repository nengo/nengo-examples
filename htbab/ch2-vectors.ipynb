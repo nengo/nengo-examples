{
 "cells": [
  {
   "cell_type": "markdown",
   "metadata": {},
   "source": [
    "# Representing a Vector\n",
    "\n",
    "In nengo, ensembles of neurons represent information. In this model, you will represent\n",
    "a two-dimensional vector with a single ensemble of LIF (leaky integrate-and-fire)\n",
    "neurons. Though this is a case of two-dimensional vector representation, but the ideas\n",
    "naturally generalize to any dimension."
   ]
  },
  {
   "cell_type": "code",
   "execution_count": null,
   "metadata": {},
   "outputs": [],
   "source": [
    "# Setup the environment\n",
    "import numpy as np\n",
    "\n",
    "import nengo\n",
    "from nengo.dists import Uniform"
   ]
  },
  {
   "cell_type": "markdown",
   "metadata": {},
   "source": [
    "## Create the Model\n",
    "\n",
    "This model has parameters as described in the book, with the neurons in the ensemble\n",
    "having two dimensions. Since the default max rates in Nengo 2.0 are (200, 400), so you\n",
    "have to explicitly specify them to be (100, 200) to create the same model as in the\n",
    "book. The default values of `tauRC`, `tauRef`, `intercepts`, `radius` and expected noise\n",
    "in\n",
    "Nengo 2.0 are same as those mentioned in the book."
   ]
  },
  {
   "cell_type": "code",
   "execution_count": null,
   "metadata": {},
   "outputs": [],
   "source": [
    "# Create the network object to which we can add ensembles, connections, etc.\n",
    "model = nengo.Network(label=\"2D Representation\")\n",
    "\n",
    "with model:\n",
    "    # Inputs to drive the neural ensemble\n",
    "    stim_sin = nengo.Node(output=np.sin, label=\"sin\")\n",
    "    stim_cos = nengo.Node(output=np.cos, label=\"cos\")\n",
    "\n",
    "    # Ensemble with 100 LIF neurons which represent a 2-dimensional signal\n",
    "    x = nengo.Ensemble(100, dimensions=2, max_rates=Uniform(100, 200))\n",
    "\n",
    "    # Get the neuron encoders\n",
    "    encoders = x.encoders.sample(100, 2)\n",
    "\n",
    "    # Connecting input stimulus to ensemble\n",
    "    # The indices in ensemble 'x' define which dimension the input projects to\n",
    "    nengo.Connection(stim_sin, x[0])\n",
    "    nengo.Connection(stim_cos, x[1])"
   ]
  },
  {
   "cell_type": "markdown",
   "metadata": {},
   "source": [
    "## Run the model"
   ]
  },
  {
   "cell_type": "markdown",
   "metadata": {},
   "source": [
    "Import the `nengo_gui` visualizer to run and visualize the model."
   ]
  },
  {
   "cell_type": "code",
   "execution_count": null,
   "metadata": {},
   "outputs": [],
   "source": [
    "from nengo_gui.ipython import IPythonViz\n",
    "\n",
    "IPythonViz(model, \"ch2-vectors.py.cfg\")"
   ]
  },
  {
   "cell_type": "markdown",
   "metadata": {},
   "source": [
    "Press the play button in the visualizer to run the simulation. You should see the graphs\n",
    "as shown in the figure below.\n",
    "\n",
    "The `cos` and `sin` graphs show the two dimensional input provided to the ensemble and\n",
    "the top right graph shows the the decoded estimate of this two dimensional input. The\n",
    "graph on bottom right shows the XY-value i.e., the state represented by one dimension of\n",
    "the ensemble vs the state represented by the other dimension."
   ]
  },
  {
   "cell_type": "code",
   "execution_count": null,
   "metadata": {},
   "outputs": [],
   "source": [
    "from IPython.display import Image\n",
    "\n",
    "Image(filename=\"ch2-vectors.png\")"
   ]
  }
 ],
 "metadata": {
  "language_info": {
   "name": "python",
   "pygments_lexer": "ipython3"
  }
 },
 "nbformat": 4,
 "nbformat_minor": 1
}
