{
 "cells": [
  {
   "cell_type": "markdown",
   "metadata": {},
   "source": [
    "# Addition"
   ]
  },
  {
   "cell_type": "markdown",
   "metadata": {},
   "source": [
    "In this model, you will see a transformation which is the basic property of single\n",
    "neurons (i.e., addition). Addition transforms two inputs into a single output which is\n",
    "their sum. You will construct a network that adds two inputs. The network utilizes two\n",
    "communication channels going into the same neural population. Addition is somewhat\n",
    "‘free’, since the incoming currents from different synaptic connections interact\n",
    "linearly."
   ]
  },
  {
   "cell_type": "code",
   "execution_count": null,
   "metadata": {},
   "outputs": [],
   "source": [
    "# Setup the environment\n",
    "import nengo\n",
    "from nengo.dists import Uniform\n",
    "from nengo.processes import Piecewise"
   ]
  },
  {
   "cell_type": "markdown",
   "metadata": {},
   "source": [
    "## Create the Model"
   ]
  },
  {
   "cell_type": "markdown",
   "metadata": {},
   "source": [
    "This model has ensembles \"A\" and \"B\" which represent the two inputs to be added. The\n",
    "\"Sum\"\n",
    "ensemble represents the added value. All the parameters used in the model are as\n",
    "described in the book, with the \"Sum\" ensemble having a radius of 2 to account for the\n",
    "maximum range of summing the input values.\n",
    "\n",
    "While connecting the inputs to the ensembles \"A\" and \"B\", the transform is set to 1\n",
    "(which\n",
    "is the default value) since this should be a communication channel. However as described\n",
    "in the book, you can scale a represented variable by a constant value by changing the\n",
    "transform. Example: if you set the transform of ensemble \"B\" to 0 and ensemble \"A\" to 2\n",
    "(i.e., `nengo.Connection(stim_A, ens_A, transform=[2])`), the sum will be twice of the\n",
    "`stim_A`. You will also need to set an appropriate radius for the \"Sum\" ensemble to\n",
    "avoid\n",
    "saturation when you change the transform values."
   ]
  },
  {
   "cell_type": "code",
   "execution_count": null,
   "metadata": {},
   "outputs": [],
   "source": [
    "# Create the network object to which we can add ensembles, connections, etc.\n",
    "model = nengo.Network(label=\"Scalar Addition\")\n",
    "\n",
    "with model:\n",
    "    # Inputs to drive the activity in ensembles A and B\n",
    "    stim_A = nengo.Node(\n",
    "        Piecewise({0: -0.75, 1.25: 0.5, 2.5: 0.70, 3.75: 0}), label=\"Input A\"\n",
    "    )\n",
    "    stim_B = nengo.Node(\n",
    "        Piecewise({0: 0.25, 1.25: -0.5, 2.5: 0.85, 3.75: 0}), label=\"Input B\"\n",
    "    )\n",
    "\n",
    "    # Ensembles with 100 LIF neurons each\n",
    "    # Represents the first input (A)\n",
    "    ens_A = nengo.Ensemble(100, dimensions=1, max_rates=Uniform(100, 200), label=\"A\")\n",
    "    # Represents the second input (B)\n",
    "    ens_B = nengo.Ensemble(100, dimensions=1, max_rates=Uniform(100, 200), label=\"B\")\n",
    "    # Represents the sum of two inputs\n",
    "    ens_sum = nengo.Ensemble(\n",
    "        100, dimensions=1, max_rates=Uniform(100, 200), radius=2, label=\"Sum\"\n",
    "    )\n",
    "\n",
    "    # Connecting the input nodes to ensembles\n",
    "    nengo.Connection(stim_A, ens_A)\n",
    "    nengo.Connection(stim_B, ens_B)\n",
    "\n",
    "    # Connecting ensembles A and B to the Sum ensemble\n",
    "    nengo.Connection(ens_A, ens_sum)\n",
    "    nengo.Connection(ens_B, ens_sum)"
   ]
  },
  {
   "cell_type": "markdown",
   "metadata": {},
   "source": [
    "## Add Probes to Collect Data"
   ]
  },
  {
   "cell_type": "code",
   "execution_count": null,
   "metadata": {},
   "outputs": [],
   "source": [
    "with model:\n",
    "    input_A_probe = nengo.Probe(stim_A)  # Input to ensemble A\n",
    "    input_B_probe = nengo.Probe(stim_B)  # Input to ensemble B\n",
    "    A_probe = nengo.Probe(ens_A, synapse=0.01)  # Decoded output of ensemble A\n",
    "    B_probe = nengo.Probe(ens_B, synapse=0.01)  # Decoded output of ensemble B\n",
    "    sum_probe = nengo.Probe(ens_sum, synapse=0.01)  # Decoded output of Sum ensemble"
   ]
  },
  {
   "cell_type": "markdown",
   "metadata": {},
   "source": [
    "## Run the Model"
   ]
  },
  {
   "cell_type": "markdown",
   "metadata": {},
   "source": [
    "Import the `nengo_gui` visualizer to run and visualize the model."
   ]
  },
  {
   "cell_type": "code",
   "execution_count": null,
   "metadata": {},
   "outputs": [],
   "source": [
    "from nengo_gui.ipython import IPythonViz\n",
    "\n",
    "IPythonViz(model, \"ch3-addition.py.cfg\")"
   ]
  },
  {
   "cell_type": "markdown",
   "metadata": {},
   "source": [
    "Press the play button in the visualizer to run the simulation. You should see the graphs\n",
    "as shown in the figure below.\n",
    "\n",
    "The \"Input A\" and \"Input B\" graphs show the inputs to ensembles `ens_A` and `ens_B`\n",
    "respectively. The\n",
    "graphs \"A\" and \"B\" show the decoded value of the activity of ensembles `ens_A` and\n",
    "`ens_B` respectively.\n",
    "The \"Sum\" graph shows that the decoded value of the activity in the `ens_sum` ensemble\n",
    "provides\n",
    "a good estimate of the sum of inputs `ens_A` and `ens_B`.\n",
    "\n",
    "You can use the sliders to change the input values provided by the \"Input A\" and \"Input\n",
    "B\"\n",
    "nodes."
   ]
  },
  {
   "cell_type": "code",
   "execution_count": null,
   "metadata": {},
   "outputs": [],
   "source": [
    "from IPython.display import Image\n",
    "\n",
    "Image(filename=\"ch3-addition.png\")"
   ]
  }
 ],
 "metadata": {
  "language_info": {
   "name": "python",
   "pygments_lexer": "ipython3"
  }
 },
 "nbformat": 4,
 "nbformat_minor": 1
}
