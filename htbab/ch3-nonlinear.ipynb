{
 "cells": [
  {
   "cell_type": "markdown",
   "metadata": {},
   "source": [
    "# Nonlinear Transformations"
   ]
  },
  {
   "cell_type": "markdown",
   "metadata": {},
   "source": [
    "The real world is filled with non-linearities and so dealing with it often requires\n",
    "nonlinear computation. This model shows how to compute nonlinear functions using Nengo\n",
    "2.0. The two nonlinear functions demonstrated in this model are 'multiplication' and\n",
    "'squaring'."
   ]
  },
  {
   "cell_type": "code",
   "execution_count": null,
   "metadata": {},
   "outputs": [],
   "source": [
    "# Setup the environment\n",
    "import nengo\n",
    "from nengo.processes import Piecewise"
   ]
  },
  {
   "cell_type": "markdown",
   "metadata": {},
   "source": [
    "## Create the Model"
   ]
  },
  {
   "cell_type": "markdown",
   "metadata": {},
   "source": [
    "The parameters of the model are as described in the book. The model has five ensembles:\n",
    "two input ensembles (`ens_X` and `ens_Y`), a 2D combined ensemble (`vector2D`), and the\n",
    "output\n",
    "ensembles `result_square` and `result_product` which store the square and product of the\n",
    "inputs respectively.\n",
    "\n",
    "Two varying scalar values are used for the two input signals that drive activity in\n",
    "ensembles A and B. For multiplication, you will project both inputs independently into a\n",
    "2D space, and then decode a nonlinear transformation of that space (i.e., the product)\n",
    "into an ensemble (`result_product`). The model also squares the value of the first input\n",
    "(`input_X`) encoded in an ensemble (`ens_x`), in the output of another ensemble\n",
    "(`result_square`).\n",
    "\n",
    "The two functions `product(x)` and `square(x)` are defined to serve the same purpose as\n",
    "entering the expressions in the \"Expression\" field in the \"User-defined Function\" dialog\n",
    "box in Nengo 1.4 as described in the book."
   ]
  },
  {
   "cell_type": "code",
   "execution_count": null,
   "metadata": {},
   "outputs": [],
   "source": [
    "# Create the network object to which we can add ensembles, connections, etc.\n",
    "model = nengo.Network(label=\"Nonlinear Function\")\n",
    "\n",
    "with model:\n",
    "    # Input - Piecewise step functions\n",
    "    input_X = nengo.Node(\n",
    "        Piecewise({0: -0.75, 1.25: 0.5, 2.5: -0.75, 3.75: 0}), label=\"Input X\"\n",
    "    )\n",
    "    input_Y = nengo.Node(\n",
    "        Piecewise({0: 1, 1.25: 0.25, 2.5: -0.25, 3.75: 0.75}), label=\"Input Y\"\n",
    "    )\n",
    "\n",
    "    # Five ensembles containing LIF neurons\n",
    "    # Represents input_X\n",
    "    ens_X = nengo.Ensemble(100, dimensions=1, radius=1, label=\"X\")\n",
    "    # Represents input_Y\n",
    "    ens_Y = nengo.Ensemble(100, dimensions=1, radius=1, label=\"Y\")\n",
    "    # 2D ensemble to represent combined X and Y values\n",
    "    vector2D = nengo.Ensemble(224, dimensions=2, radius=2)\n",
    "\n",
    "    # Represents the square of X\n",
    "    result_square = nengo.Ensemble(100, dimensions=1, radius=1, label=\"Square\")\n",
    "    # Represents the product of X and Y\n",
    "    result_product = nengo.Ensemble(100, dimensions=1, radius=1, label=\"Product\")\n",
    "\n",
    "    # Connecting the input nodes to the appropriate ensembles\n",
    "    nengo.Connection(input_X, ens_X)\n",
    "    nengo.Connection(input_Y, ens_Y)\n",
    "\n",
    "    # Connecting input ensembles A and B to the 2D combined ensemble\n",
    "    nengo.Connection(ens_X, vector2D[0])\n",
    "    nengo.Connection(ens_Y, vector2D[1])\n",
    "\n",
    "    # Defining a function that computes the product of two inputs\n",
    "    def product(x):\n",
    "        return x[0] * x[1]\n",
    "\n",
    "    # Defining the squaring function\n",
    "    def square(x):\n",
    "        return x[0] * x[0]\n",
    "\n",
    "    # Connecting the 2D combined ensemble to the result ensemble\n",
    "    nengo.Connection(vector2D, result_product, function=product)\n",
    "\n",
    "    # Connecting ensemble A to the result ensemble\n",
    "    nengo.Connection(ens_X, result_square, function=square)"
   ]
  },
  {
   "cell_type": "markdown",
   "metadata": {},
   "source": [
    "## Step 5: Run the Model"
   ]
  },
  {
   "cell_type": "code",
   "execution_count": null,
   "metadata": {},
   "outputs": [],
   "source": [
    "# Import the nengo_gui visualizer to run and visualize the model.\n",
    "from nengo_gui.ipython import IPythonViz\n",
    "\n",
    "IPythonViz(model, \"ch3-nonlinear.py.cfg\")"
   ]
  },
  {
   "cell_type": "markdown",
   "metadata": {},
   "source": [
    "Press the play button in the visualizer to run the simulation. You should see the graphs\n",
    "as shown in the figure below.\n",
    "\n",
    "The input signals chosen clearly show that the model works well. The \"Product\"\n",
    "graph shows the product of the \"Input X\" & \"Input Y\", and the \"Square\" graph shows\n",
    "the square of \"Input X\". You can see in the graphs that when \"Input X\" is zero, both the\n",
    "product and the square are also zero. You can use the sliders to change the input values\n",
    "provided by the `stim_X` and `stim_Y` nodes to test the model."
   ]
  },
  {
   "cell_type": "code",
   "execution_count": null,
   "metadata": {},
   "outputs": [],
   "source": [
    "from IPython.display import Image\n",
    "\n",
    "Image(filename=\"ch3-nonlinear.png\")"
   ]
  }
 ],
 "metadata": {
  "language_info": {
   "name": "python",
   "pygments_lexer": "ipython3"
  }
 },
 "nbformat": 4,
 "nbformat_minor": 1
}
