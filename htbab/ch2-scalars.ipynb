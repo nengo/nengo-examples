{
 "cells": [
  {
   "cell_type": "markdown",
   "metadata": {},
   "source": [
    "# Representing a scalar\n",
    "\n",
    "You can construct and manipulate a population of neurons (ensemble) in nengo. This model\n",
    "shows shows how the activity of neural populations can be thought of as representing a\n",
    "mathematical variable (a scalar value)."
   ]
  },
  {
   "cell_type": "code",
   "execution_count": null,
   "metadata": {},
   "outputs": [],
   "source": [
    "# Setup the environment\n",
    "import numpy as np\n",
    "import matplotlib.pyplot as plt\n",
    "\n",
    "%matplotlib inline\n",
    "\n",
    "import nengo\n",
    "from nengo.dists import Choice, Uniform\n",
    "from nengo.utils.ensemble import tuning_curves"
   ]
  },
  {
   "cell_type": "markdown",
   "metadata": {},
   "source": [
    "## Create the Model\n",
    "\n",
    "This model has parameters as described in the book and uses a single population\n",
    "(ensemble) of 100 LIF neurons. Note that the default max rates in Nengo 2.0 are (200,\n",
    "400), so you have to explicitly specify them to be (100, 200) to create the model with\n",
    "the same parameters as described in the book. Moreover the \"Node Factory\" feature of\n",
    "ensembles mentioned in the book maps to the `neuron_type` in Nengo 2.0 which is set to\n",
    "LIF by default. The default values of `tauRC`, `tauRef`, `radius` and `intercepts` in\n",
    "Nengo 2.0\n",
    "are the same as those mentioned in the book."
   ]
  },
  {
   "cell_type": "code",
   "execution_count": null,
   "metadata": {},
   "outputs": [],
   "source": [
    "# Create the network object to which we can add ensembles, connections, etc.\n",
    "model = nengo.Network(label=\"Many Neurons\")\n",
    "\n",
    "with model:\n",
    "    # Input stimulus to drive the neural ensemble\n",
    "    # Input sine wave with range 1\n",
    "    stim = nengo.Node(lambda t: np.sin(16 * t), label=\"input\")\n",
    "\n",
    "    # Input sine wave with range increased to 4 (uncomment to use)\n",
    "    # stim = nengo.Node(lambda t: 4 * np.sin(16 * t), label=\"input\")\n",
    "\n",
    "    # Ensemble with 100 LIF neurons\n",
    "    x = nengo.Ensemble(100, dimensions=1, max_rates=Uniform(100, 200))\n",
    "\n",
    "    # Connecting input stimulus to ensemble\n",
    "    nengo.Connection(stim, x)"
   ]
  },
  {
   "cell_type": "markdown",
   "metadata": {},
   "source": [
    "## Run the model"
   ]
  },
  {
   "cell_type": "markdown",
   "metadata": {},
   "source": [
    "Import the `nengo_gui` visualizer to run and visualize the model."
   ]
  },
  {
   "cell_type": "code",
   "execution_count": null,
   "metadata": {},
   "outputs": [],
   "source": [
    "from nengo_gui.ipython import IPythonViz\n",
    "\n",
    "IPythonViz(model, \"ch2-scalars.py.cfg\")"
   ]
  },
  {
   "cell_type": "markdown",
   "metadata": {},
   "source": [
    "Press the play button in the visualizer to run the simulation. You should see the graphs\n",
    "as shown in the figure below.\n",
    "\n",
    "The graph on the top left shows the input and the graph on the top right shows the the\n",
    "decoded value of the neural spiking (a linearly decoded estimate of the input). The\n",
    "graph on the bottom right shows the spike raster which is the spiking output of the\n",
    "neuron population (`x`)."
   ]
  },
  {
   "cell_type": "code",
   "execution_count": null,
   "metadata": {},
   "outputs": [],
   "source": [
    "from IPython.display import Image\n",
    "\n",
    "Image(filename=\"ch2-scalars.png\")"
   ]
  },
  {
   "cell_type": "markdown",
   "metadata": {},
   "source": [
    "### Increasing the range of Input"
   ]
  },
  {
   "cell_type": "markdown",
   "metadata": {},
   "source": [
    "You have seen that the population of neurons does a reasonably good job of representing\n",
    "the input. However, neurons cannot represent arbitrary values well and you can verify\n",
    "this by increasing the range of the input to 4 (uncomment the line of code that reads\n",
    "`input = nengo.Node(lambda t:\n",
    "4*np.sin(16 * t))`, and re-run cells 2 and 3). You will observe the same saturation\n",
    "effects as described in the\n",
    "book, showing that the neurons do a much better job at representing information within\n",
    "the defined radius."
   ]
  },
  {
   "cell_type": "markdown",
   "metadata": {},
   "source": [
    "### Plotting the Tuninig Curves"
   ]
  },
  {
   "cell_type": "markdown",
   "metadata": {},
   "source": [
    "The tuning curve of a neurons tells us how it responds to an incoming input signal.\n",
    "Looking at the tuning curves of the neurons in an ensemble is one of the most common\n",
    "ways to debug failures in a model.\n",
    "\n",
    "For a one-dimensional ensemble, since the input is a scalar, we can use the input as\n",
    "x-axis and the neuron response as y-axis."
   ]
  },
  {
   "cell_type": "code",
   "execution_count": null,
   "metadata": {},
   "outputs": [],
   "source": [
    "# Alternative way to run a Nengo model\n",
    "\n",
    "# Create the Nengo simulator\n",
    "with nengo.Simulator(model) as sim:\n",
    "    sim.run(1)  # Run the simulation for 1 second"
   ]
  },
  {
   "cell_type": "code",
   "execution_count": null,
   "metadata": {},
   "outputs": [],
   "source": [
    "# Plot the tuning curves of the ensemble\n",
    "plt.figure()\n",
    "plt.plot(*tuning_curves(x, sim))\n",
    "plt.ylabel(\"Firing rate (Hz)\")\n",
    "plt.xlabel(\"Input scalar, x\")"
   ]
  },
  {
   "cell_type": "markdown",
   "metadata": {},
   "source": [
    "If there is some biological or functional reason to impose some pattern to the neuron\n",
    "responses, you can do so by changing the parameters of the ensemble."
   ]
  },
  {
   "cell_type": "code",
   "execution_count": null,
   "metadata": {},
   "outputs": [],
   "source": [
    "# Change the intercepts of all the neurons in `x` to -0.2\n",
    "x.intercepts = Choice([-0.2])\n",
    "\n",
    "with nengo.Simulator(model) as sim:\n",
    "    plt.plot(*tuning_curves(x, sim))\n",
    "plt.ylabel(\"Firing rate (Hz)\")\n",
    "plt.xlabel(\"Input scalar, x\")"
   ]
  },
  {
   "cell_type": "markdown",
   "metadata": {},
   "source": [
    "Note that in the above figure, some neurons start firing at -0.2, while others stop\n",
    "firing at 0.2. This is because the input signal, x, is multiplied by a neuron's encoder\n",
    "when it is converted to input current. You can also constrain the tuning curves by\n",
    "changing the encoders of the ensemble."
   ]
  },
  {
   "cell_type": "code",
   "execution_count": null,
   "metadata": {},
   "outputs": [],
   "source": [
    "# Change the encoders of all neurons in `x` to [1]\n",
    "x.encoders = Choice([[1]])\n",
    "\n",
    "with nengo.Simulator(model) as sim:\n",
    "    plt.plot(*tuning_curves(x, sim))\n",
    "plt.plot(*tuning_curves(x, sim))\n",
    "plt.ylabel(\"Firing rate (Hz)\")\n",
    "plt.xlabel(\"Input scalar, x\")"
   ]
  },
  {
   "cell_type": "markdown",
   "metadata": {},
   "source": [
    "This gives us an ensemble of neurons that respond very predictably to input. In some\n",
    "cases, this is important for the proper functioning of a model, or to match what we know\n",
    "about the physiology of a brain area or neuron type."
   ]
  }
 ],
 "metadata": {
  "language_info": {
   "name": "python",
   "pygments_lexer": "ipython3"
  }
 },
 "nbformat": 4,
 "nbformat_minor": 1
}
