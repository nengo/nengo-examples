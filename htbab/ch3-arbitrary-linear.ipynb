{
 "cells": [
  {
   "cell_type": "markdown",
   "metadata": {},
   "source": [
    "# Arbitrary Linear Transformation"
   ]
  },
  {
   "cell_type": "markdown",
   "metadata": {},
   "source": [
    "This model shows that any linear transformation between ensembles can be easily computed\n",
    "by selecting an appropriate value for the \"transform\". It provides an example of\n",
    "computing linear transformations using vector representations.\n",
    "\n",
    "Network diagram:\n",
    "\n",
    "      [Input - 2D] ---> (x - 2D) ---> (z - 3D)\n",
    "\n",
    "A two-dimensional input signal is first fed into a two-dimensional neuronal ensemble\n",
    "`ens_X`\n",
    ", which then projects it on to another three-dimensional ensemble `ens_Z`."
   ]
  },
  {
   "cell_type": "code",
   "execution_count": null,
   "metadata": {},
   "outputs": [],
   "source": [
    "# Setup the environment\n",
    "import nengo"
   ]
  },
  {
   "cell_type": "markdown",
   "metadata": {},
   "source": [
    "## Create the Model"
   ]
  },
  {
   "cell_type": "markdown",
   "metadata": {},
   "source": [
    "This model contains the parameters as described in the book. Setting the `transform`\n",
    "argument of the connection\n",
    "to be the `weight_matrix` is analogous to entering the weights in the \"2 to 3 Coupling\n",
    "Matrix\" window in Nengo 1.4 GUI as described in the book."
   ]
  },
  {
   "cell_type": "code",
   "execution_count": null,
   "metadata": {},
   "outputs": [],
   "source": [
    "# Create the network object to which we can add ensembles, connections, etc.\n",
    "model = nengo.Network(label=\"Arbitrary Linear Transformation\")\n",
    "\n",
    "with model:\n",
    "    # Two-dimensional input signal with constant value of [0.5, -0.5]\n",
    "    stim = nengo.Node([0.5, -0.5], label=\"Input\")\n",
    "\n",
    "    # 2 and 3-dimensional ensembles each with 200 LIF neurons\n",
    "    ens_X = nengo.Ensemble(200, dimensions=2, label=\"X\")\n",
    "    ens_Z = nengo.Ensemble(200, dimensions=3, label=\"Z\")\n",
    "\n",
    "    # Connect the input to ensemble x\n",
    "    nengo.Connection(stim, ens_X)\n",
    "\n",
    "    # Connect ensemble x to ensemble z using a weight matrix\n",
    "    weight_matrix = [[0.0, 1.0], [1.0, 0.0], [0.5, 0.5]]\n",
    "    nengo.Connection(ens_X, ens_Z, transform=weight_matrix)"
   ]
  },
  {
   "cell_type": "markdown",
   "metadata": {},
   "source": [
    "## Run the Model"
   ]
  },
  {
   "cell_type": "code",
   "execution_count": null,
   "metadata": {},
   "outputs": [],
   "source": [
    "# Import the nengo_gui visualizer to run and visualize the model.\n",
    "from nengo_gui.ipython import IPythonViz\n",
    "\n",
    "IPythonViz(model, \"ch3-arbitrary-linear.py.cfg\")"
   ]
  },
  {
   "cell_type": "markdown",
   "metadata": {},
   "source": [
    "Press the play button in the visualizer to run the simulation. You should see the graphs\n",
    "as shown in the figure below.\n",
    "\n",
    "The graphs show a two-dimesional input linearly projected on to a two-dimensional\n",
    "ensemble of neurons (`x`), which further linearly projects it on to a three-dimesional\n",
    "neuronal ensemble (`z`). You can use the sliders to change the input values provided by\n",
    "the input node."
   ]
  },
  {
   "cell_type": "code",
   "execution_count": null,
   "metadata": {},
   "outputs": [],
   "source": [
    "from IPython.display import Image\n",
    "\n",
    "Image(filename=\"ch3-arbitrary-linear.png\")"
   ]
  }
 ],
 "metadata": {
  "language_info": {
   "name": "python",
   "pygments_lexer": "ipython3"
  }
 },
 "nbformat": 4,
 "nbformat_minor": 1
}
