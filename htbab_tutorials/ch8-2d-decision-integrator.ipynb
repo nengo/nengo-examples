{
 "cells": [
  {
   "cell_type": "markdown",
   "metadata": {},
   "source": [
    "# 2D Decision Integrator"
   ]
  },
  {
   "cell_type": "markdown",
   "metadata": {},
   "source": [
    "This is a model of perceptual decision making using a two dimensional integrator. As\n",
    "mentioned in the book, the goal is to construct a simple model of perceptual decision\n",
    "making without being concerned with establishing how good or bad it is.\n",
    "\n",
    "Rather than having two different integrators for each dimension, you will build the\n",
    "model using a single two dimensional integrator. This integrator can be used\n",
    "irrespective of the task demands since it effectively integrates in every direction\n",
    "simultaneously. This is neurally more efficient due to the reasons explained in the\n",
    "book."
   ]
  },
  {
   "cell_type": "code",
   "execution_count": null,
   "metadata": {},
   "outputs": [],
   "source": [
    "# Setup the environment\n",
    "import nengo\n",
    "from nengo.processes import WhiteNoise\n",
    "from nengo.dists import Uniform"
   ]
  },
  {
   "cell_type": "markdown",
   "metadata": {},
   "source": [
    "## Create the Model"
   ]
  },
  {
   "cell_type": "markdown",
   "metadata": {},
   "source": [
    "The model has four ensembles: `MT` representing the motion area, `LIP` representing the\n",
    "lateral intraparietal area, `input` and `output` of the 2D integrator. The parameters\n",
    "used\n",
    "in the model are as described in the book. The 2D integrator resides in `LIP`. As\n",
    "discussed in the book an integrator requires two connections: here, the input from `MT`\n",
    "to\n",
    "`LIP` and the feedback connection from `LIP` to `LIP`.\n",
    "\n",
    "Here, you will provide a an input of (-0.5, 0.5) to the model spanning over a period of\n",
    "6 seconds to observe the model behaviour. In order to inject noise while the simulation\n",
    "runs, you can use the `noise` parameter when creating ensembles as shown. The reason for\n",
    "injecting noise is explained in the book."
   ]
  },
  {
   "cell_type": "code",
   "execution_count": null,
   "metadata": {},
   "outputs": [],
   "source": [
    "# Create the network object to which we can add ensembles, connections, etc.\n",
    "model = nengo.Network(label=\"2D Decision Integrator\", seed=11)\n",
    "\n",
    "with model:\n",
    "    # Inputs\n",
    "    input1 = nengo.Node(-0.5, label=\"Input 1\")\n",
    "    input2 = nengo.Node(0.5, label=\"Input 2\")\n",
    "\n",
    "    # Ensembles\n",
    "    ens_inp = nengo.Ensemble(100, dimensions=2, label=\"Input\")\n",
    "    MT = nengo.Ensemble(100, dimensions=2, noise=WhiteNoise(dist=Uniform(-0.3, 0.3)))\n",
    "    LIP = nengo.Ensemble(200, dimensions=2, noise=WhiteNoise(dist=Uniform(-0.3, 0.3)))\n",
    "    ens_out = nengo.Ensemble(\n",
    "        100,\n",
    "        dimensions=2,\n",
    "        intercepts=Uniform(0.3, 1),\n",
    "        noise=WhiteNoise(dist=Uniform(-0.3, 0.3)),\n",
    "        label=\"Output\",\n",
    "    )\n",
    "\n",
    "    weight = 0.1\n",
    "    # Connecting the input signal to the input ensemble\n",
    "    nengo.Connection(input1, ens_inp[0], synapse=0.01)\n",
    "    nengo.Connection(input2, ens_inp[1], synapse=0.01)\n",
    "\n",
    "    # Providing input to MT ensemble\n",
    "    nengo.Connection(ens_inp, MT, synapse=0.01)\n",
    "\n",
    "    # Connecting MT ensemble to LIP ensemble\n",
    "    nengo.Connection(MT, LIP, transform=weight, synapse=0.1)\n",
    "\n",
    "    # Connecting LIP ensemble to itself\n",
    "    nengo.Connection(LIP, LIP, synapse=0.1)\n",
    "\n",
    "    # Connecting LIP population to output\n",
    "    nengo.Connection(LIP, ens_out, synapse=0.01)"
   ]
  },
  {
   "cell_type": "markdown",
   "metadata": {},
   "source": [
    "## Run the Model"
   ]
  },
  {
   "cell_type": "code",
   "execution_count": null,
   "metadata": {},
   "outputs": [],
   "source": [
    "# Import the nengo_gui visualizer to run and visualize the model.\n",
    "from nengo_gui.ipython import IPythonViz\n",
    "\n",
    "IPythonViz(model, \"ch8-2d-decision-integrator.py.cfg\")"
   ]
  },
  {
   "cell_type": "markdown",
   "metadata": {},
   "source": [
    "Press the play button in the visualizer to run the simulation. You should see the graphs\n",
    "as shown in the figure below.\n",
    "\n",
    "The `output` plot on the bottom-right shows the output of the 2D decision integrator\n",
    "which is represented by a single two dimensional output ensemble. You can see that as\n",
    "`MT`\n",
    "encodes the input over time, `LIP` slowly moves towards the same direction as it\n",
    "acuumulates evidence that there is sustained motion in that direction.\n",
    "\n",
    "Thus `MT` moves `LIP` in the right direction and once past a certain threshold, the\n",
    "output\n",
    "neurons start firing. To visualize this:\n",
    "<br>1) Select \"spikes\" from the right-click menu of the `output` ensemble. This will\n",
    "display a spike plot.\n",
    "<br>2) Run the simulation and then slide the blue box in the simulation control bar\n",
    "backwards.\n",
    "<br>3) You will see that the spikes become stronger once past a certain threshold (i.e.,\n",
    "when `LIP` starts following `MT`)"
   ]
  },
  {
   "cell_type": "code",
   "execution_count": null,
   "metadata": {},
   "outputs": [],
   "source": [
    "from IPython.display import Image\n",
    "\n",
    "Image(filename=\"ch8-2d-decision-integrator.png\")"
   ]
  }
 ],
 "metadata": {
  "language_info": {
   "name": "python",
   "pygments_lexer": "ipython3"
  }
 },
 "nbformat": 4,
 "nbformat_minor": 1
}
