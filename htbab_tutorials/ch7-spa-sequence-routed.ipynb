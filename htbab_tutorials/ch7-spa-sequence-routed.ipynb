{
 "cells": [
  {
   "cell_type": "markdown",
   "metadata": {},
   "source": [
    "# Routed Sequencing"
   ]
  },
  {
   "cell_type": "markdown",
   "metadata": {},
   "source": [
    "This model introduces routing in the sequencing model. The addition of routing allows\n",
    "the system to choose between two different actions: whether to go through the sequence,\n",
    "or be driven by the visual input as explained in the book. For instance, if the visual\n",
    "input has its value set to **0.8 * START + D**, the model will begin cycling through the\n",
    "sequence starting at **D** -> **E**,\n",
    "etc. Thus in this model, the input doesn't prevent the activation of the second rule in\n",
    "the sequence."
   ]
  },
  {
   "cell_type": "code",
   "execution_count": null,
   "metadata": {},
   "outputs": [],
   "source": [
    "# Setup the environment\n",
    "from nengo import spa  # Import spa related packages"
   ]
  },
  {
   "cell_type": "markdown",
   "metadata": {},
   "source": [
    "## Create the Model\n",
    "The parameters used in the model are as described in the book, with 16 dimensions for\n",
    "all semantic pointers.\n",
    "\n",
    "In Nengo 1.4, the buffer element for representing the `vision` was created by using the\n",
    "`Buffer()` object, as described in the book. However, in Nengo 2.0, you will use the\n",
    "`State()` object\n",
    "with `feedback` parameter set to 0 (which is the default value in Nengo 2.0)."
   ]
  },
  {
   "cell_type": "code",
   "execution_count": null,
   "metadata": {},
   "outputs": [],
   "source": [
    "# Number of dimensions for the semantic pointers\n",
    "dim = 16\n",
    "\n",
    "# Create the spa.SPA network to which we can add SPA objects\n",
    "model = spa.SPA(label=\"Routed_Sequence\", seed=20)\n",
    "with model:\n",
    "    # Specify the modules to be used\n",
    "    model.state = spa.State(dimensions=dim, feedback=1, feedback_synapse=0.01)\n",
    "    model.vision = spa.State(dimensions=dim)\n",
    "\n",
    "    # Specify the action mapping\n",
    "    actions = spa.Actions(\n",
    "        \"dot(vision, START) --> state = vision\",\n",
    "        \"dot(state, A) --> state = B\",\n",
    "        \"dot(state, B) --> state = C\",\n",
    "        \"dot(state, C) --> state = D\",\n",
    "        \"dot(state, D) --> state = E\",\n",
    "        \"dot(state, E) --> state = A\",\n",
    "    )\n",
    "\n",
    "    # Creating the BG and thalamus components that confirm to the specified rules\n",
    "    model.bg = spa.BasalGanglia(actions=actions)\n",
    "    model.thal = spa.Thalamus(model.bg)\n",
    "\n",
    "    # Function that provides the model with an initial input semantic pointer.\n",
    "    def start(t):\n",
    "        if t < 0.4:\n",
    "            return \"0.8*START+D\"\n",
    "        return \"0\"\n",
    "\n",
    "    # Input\n",
    "    model.input = spa.Input(vision=start)"
   ]
  },
  {
   "cell_type": "markdown",
   "metadata": {},
   "source": [
    "## Run the Model"
   ]
  },
  {
   "cell_type": "code",
   "execution_count": null,
   "metadata": {},
   "outputs": [],
   "source": [
    "# Import the nengo_gui visualizer\n",
    "from nengo_gui.ipython import IPythonViz\n",
    "\n",
    "IPythonViz(model, \"ch7-spa-sequence-routed.py.cfg\")"
   ]
  },
  {
   "cell_type": "markdown",
   "metadata": {},
   "source": [
    "Press the play button in the visualizer to run the simulation. You should see the graphs\n",
    "as shown in the figure below.\n",
    "\n",
    "The graph on the bottom-left shows the visual input received by the model, the state\n",
    "graph in the middle shows the semantic pointer representation of the values stored in\n",
    "the `state` ensemble. The `actions` plot on bottom-right shows the current transition or\n",
    "the action being executed, and the `state` plot on top-right shows the utility\n",
    "(similarity) of the current Basal Hanglia input (i.e., `state`) with the possible\n",
    "vocabulary vectors.\n",
    "\n",
    "You can see that in this case, even though the input is applied for 400ms, it doesn't\n",
    "prevent the activation of the second and subsequent rules in the sequence."
   ]
  },
  {
   "cell_type": "code",
   "execution_count": null,
   "metadata": {},
   "outputs": [],
   "source": [
    "from IPython.display import Image\n",
    "\n",
    "Image(filename=\"ch7-spa-sequence-routed.png\")"
   ]
  }
 ],
 "metadata": {
  "language_info": {
   "name": "python",
   "pygments_lexer": "ipython3"
  }
 },
 "nbformat": 4,
 "nbformat_minor": 1
}
