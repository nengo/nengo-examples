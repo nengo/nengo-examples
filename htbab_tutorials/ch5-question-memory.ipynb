{
 "cells": [
  {
   "cell_type": "markdown",
   "metadata": {},
   "source": [
    "# Question Answering with Memory\n",
    "\n",
    "This model shows a form of question answering with memory. You will bind two features\n",
    "(color and shape) by circular convolution and store them in a memory population. Then\n",
    "you will provide a cue to the model at a later time to determine either one of the\n",
    "features by deconvolution. This model exhibits better cognitive ability since the\n",
    "answers to the questions are provided at a later time and not at the same time as the\n",
    "questions themselves.\n",
    "\n",
    "**Note**: Simplified method of building the model using the SPA (semantic pointer\n",
    "architecture) package in Nengo 2.0 is shown in the last few sections of this notebook."
   ]
  },
  {
   "cell_type": "code",
   "execution_count": null,
   "metadata": {},
   "outputs": [],
   "source": [
    "# Setup the environment\n",
    "import matplotlib.pyplot as plt\n",
    "import numpy as np\n",
    "\n",
    "%matplotlib inline\n",
    "\n",
    "import nengo\n",
    "from nengo.spa import Vocabulary"
   ]
  },
  {
   "cell_type": "markdown",
   "metadata": {},
   "source": [
    "## Create the model\n",
    "This model has parameters as described in the book, with `memory` population having 1000\n",
    "neurons over 20 dimensions. The `memory` population is capable of storing a vector over\n",
    "time and it uses an integrator network to do so as discussed in the book.\n",
    "\n",
    "The color input presented to the model is **RED** and then **BLUE** for 0.25 seconds\n",
    "each\n",
    "before being turned off. In the same way the shape input is **CIRCLE** and then\n",
    "**SQUARE**\n",
    "for 0.25 seconds each. Thus, when you run the model, it will start by binding **RED**\n",
    "and\n",
    "**CIRCLE** for 0.25 seconds and then binding **BLUE** and **SQUARE** for 0.25 seconds.\n",
    "The cue\n",
    "for deconvolving bound semantic pointers will be turned off for 0.5 seconds and then\n",
    "starts cycling through **CIRCLE**, **RED**, **SQUARE**, and **BLUE** within each second.\n",
    "The\n",
    "model will be able to determine the correct answer using the cue, even when the color\n",
    "and shape inputs have been turned off."
   ]
  },
  {
   "cell_type": "code",
   "execution_count": null,
   "metadata": {},
   "outputs": [],
   "source": [
    "dim = 32  # Number of dimensions\n",
    "n_neurons = 300  # Number of neurons in population\n",
    "n_conv = 70  # Number of neurons per dimension in bind/unbind populations\n",
    "n_mem = 50  # Number of neurons per dimension in memory population\n",
    "\n",
    "# Creating the vocabulary\n",
    "rng = np.random.RandomState(0)\n",
    "vocab = Vocabulary(dimensions=dim, rng=rng, max_similarity=0.1)\n",
    "\n",
    "model = nengo.Network(label=\"Question Answering with Memory\", seed=12)\n",
    "with model:\n",
    "    # Ensembles\n",
    "    ens_A = nengo.Ensemble(n_neurons=n_neurons, dimensions=dim, label=\"A\")\n",
    "    ens_B = nengo.Ensemble(n_neurons=n_neurons, dimensions=dim, label=\"B\")\n",
    "    ens_C = nengo.Ensemble(n_neurons=n_neurons, dimensions=dim, label=\"C\")\n",
    "    ens_D = nengo.Ensemble(n_neurons=n_neurons, dimensions=dim, label=\"D\")\n",
    "    ens_E = nengo.Ensemble(n_neurons=n_neurons, dimensions=dim, label=\"E\")\n",
    "\n",
    "    # Creating memory population and connecting ensemble D to it\n",
    "    tau = 0.4\n",
    "    memory = nengo.networks.EnsembleArray(\n",
    "        n_neurons=n_mem,\n",
    "        n_ensembles=dim,\n",
    "        label=\"Memory\",\n",
    "    )\n",
    "    nengo.Connection(memory.output, memory.input, synapse=tau)\n",
    "    nengo.Connection(ens_D, memory.input)\n",
    "\n",
    "    # Creating the Bind network\n",
    "    net_bind = nengo.networks.CircularConvolution(n_neurons=n_conv, dimensions=dim)\n",
    "    nengo.Connection(ens_A, net_bind.A)\n",
    "    nengo.Connection(ens_B, net_bind.B)\n",
    "    nengo.Connection(net_bind.output, ens_D)\n",
    "\n",
    "    # Creating the Unbind network\n",
    "    net_unbind = nengo.networks.CircularConvolution(\n",
    "        n_neurons=n_conv, dimensions=dim, invert_a=True\n",
    "    )\n",
    "    nengo.Connection(ens_C, net_unbind.A)\n",
    "    nengo.Connection(memory.output, net_unbind.B)\n",
    "    nengo.Connection(net_unbind.output, ens_E)\n",
    "\n",
    "    # Getting semantic pointer values\n",
    "    CIRCLE = vocab.parse(\"CIRCLE\").v\n",
    "    BLUE = vocab.parse(\"BLUE\").v\n",
    "    RED = vocab.parse(\"RED\").v\n",
    "    SQUARE = vocab.parse(\"SQUARE\").v\n",
    "    ZERO = [0] * dim\n",
    "\n",
    "    # Function for providing color input\n",
    "    def color_input(t):\n",
    "        if t < 0.25:\n",
    "            return RED\n",
    "        elif t < 0.5:\n",
    "            return BLUE\n",
    "        return ZERO\n",
    "\n",
    "    # Function for providing shape input\n",
    "    def shape_input(t):\n",
    "        if t < 0.25:\n",
    "            return CIRCLE\n",
    "        elif t < 0.5:\n",
    "            return SQUARE\n",
    "        return ZERO\n",
    "\n",
    "    # Function for providing the cue\n",
    "    def cue_input(t):\n",
    "        if t < 0.5:\n",
    "            return ZERO\n",
    "        sequence = [ZERO, CIRCLE, RED, ZERO, SQUARE, BLUE]\n",
    "        idx = int(((t - 0.5) // (1.0 / len(sequence))) % len(sequence))\n",
    "        return sequence[idx]\n",
    "\n",
    "    # Defining inputs\n",
    "    input_A = nengo.Node(output=color_input, size_out=dim, label=\"Input A\")\n",
    "    input_B = nengo.Node(output=shape_input, size_out=dim, label=\"Input B\")\n",
    "    input_C = nengo.Node(output=cue_input, size_out=dim, label=\"Input C\")\n",
    "\n",
    "    # Connecting input to ensembles\n",
    "    nengo.Connection(input_A, ens_A)\n",
    "    nengo.Connection(input_B, ens_B)\n",
    "    nengo.Connection(input_C, ens_C)"
   ]
  },
  {
   "cell_type": "markdown",
   "metadata": {},
   "source": [
    "## Add Probes to Collect Data"
   ]
  },
  {
   "cell_type": "code",
   "execution_count": null,
   "metadata": {},
   "outputs": [],
   "source": [
    "with model:\n",
    "    A_probe = nengo.Probe(ens_A, synapse=0.03)\n",
    "    B_probe = nengo.Probe(ens_B, synapse=0.03)\n",
    "    C_probe = nengo.Probe(ens_C, synapse=0.03)\n",
    "    D_probe = nengo.Probe(ens_D, synapse=0.03)\n",
    "    E_probe = nengo.Probe(ens_E, synapse=0.03)\n",
    "    memory_probe = nengo.Probe(memory.output, synapse=0.03)"
   ]
  },
  {
   "cell_type": "markdown",
   "metadata": {},
   "source": [
    "## Run the model"
   ]
  },
  {
   "cell_type": "code",
   "execution_count": null,
   "metadata": {},
   "outputs": [],
   "source": [
    "with nengo.Simulator(model) as sim:  # Create the simulator\n",
    "    sim.run(3.0)  # Run it for 3 seconds"
   ]
  },
  {
   "cell_type": "markdown",
   "metadata": {},
   "source": [
    "## Plot the results"
   ]
  },
  {
   "cell_type": "code",
   "execution_count": null,
   "metadata": {},
   "outputs": [],
   "source": [
    "plt.figure(figsize=(10, 10))\n",
    "\n",
    "plt.subplot(6, 1, 1)\n",
    "plt.plot(sim.trange(), nengo.spa.similarity(sim.data[A_probe], vocab))\n",
    "plt.legend(vocab.keys, bbox_to_anchor=(1.05, 1), loc=2, borderaxespad=0.0, fontsize=9)\n",
    "plt.ylabel(\"color\")\n",
    "\n",
    "plt.subplot(6, 1, 2)\n",
    "plt.plot(sim.trange(), nengo.spa.similarity(sim.data[B_probe], vocab))\n",
    "plt.legend(vocab.keys, bbox_to_anchor=(1.05, 1), loc=2, borderaxespad=0.0, fontsize=9)\n",
    "plt.ylabel(\"shape\")\n",
    "\n",
    "plt.subplot(6, 1, 3)\n",
    "for pointer in [\"RED * CIRCLE\", \"BLUE * SQUARE\"]:\n",
    "    plt.plot(sim.trange(), vocab.parse(pointer).dot(sim.data[D_probe].T), label=pointer)\n",
    "plt.legend(bbox_to_anchor=(1.05, 1), loc=2, borderaxespad=0.0, fontsize=10)\n",
    "plt.ylabel(\"bound\")\n",
    "\n",
    "plt.subplot(6, 1, 4)\n",
    "for pointer in [\"RED * CIRCLE\", \"BLUE * SQUARE\"]:\n",
    "    plt.plot(\n",
    "        sim.trange(), vocab.parse(pointer).dot(sim.data[memory_probe].T), label=pointer\n",
    "    )\n",
    "plt.legend(bbox_to_anchor=(1.05, 1), loc=2, borderaxespad=0.0, fontsize=10)\n",
    "plt.ylabel(\"memory\")\n",
    "\n",
    "plt.subplot(6, 1, 5)\n",
    "plt.plot(sim.trange(), nengo.spa.similarity(sim.data[C_probe], vocab))\n",
    "plt.legend(vocab.keys, bbox_to_anchor=(1.05, 1), loc=2, borderaxespad=0.0, fontsize=9)\n",
    "plt.ylabel(\"cue\")\n",
    "\n",
    "plt.subplot(6, 1, 6)\n",
    "plt.plot(sim.trange(), nengo.spa.similarity(sim.data[E_probe], vocab))\n",
    "plt.legend(vocab.keys, bbox_to_anchor=(1.05, 1), loc=2, borderaxespad=0.0, fontsize=9)\n",
    "plt.ylabel(\"Output\")\n",
    "plt.xlabel(\"time [s]\")"
   ]
  },
  {
   "cell_type": "markdown",
   "metadata": {},
   "source": [
    "The graphs of `shape`, `color`, `bound` and `memory` show that first **RED * CIRCLE**\n",
    "and\n",
    "then **BLUE * SQUARE** are convolved (bound) and loaded into the `memory` population, so\n",
    "after 0.5 seconds the `memory` represents the superposition **RED * CIRCLE + BLUE *\n",
    "SQUARE**.\n",
    "\n",
    "The last plot shows that the output is most similar to the semantic pointer bound to the\n",
    "current cue. For example, when the cue is **CIRCLE**, the output is most similar to\n",
    "**RED**."
   ]
  },
  {
   "cell_type": "markdown",
   "metadata": {},
   "source": [
    "## Create the model using the `nengo.spa` package"
   ]
  },
  {
   "cell_type": "code",
   "execution_count": null,
   "metadata": {},
   "outputs": [],
   "source": [
    "from nengo import spa\n",
    "\n",
    "dim = 32  # The dimensionality of the vectors\n",
    "rng = np.random.RandomState(4)\n",
    "vocab = Vocabulary(dimensions=dim, rng=rng, max_similarity=0.1)\n",
    "\n",
    "# Adding semantic pointers to the vocabulary\n",
    "CIRCLE = vocab.parse(\"CIRCLE\")\n",
    "BLUE = vocab.parse(\"BLUE\")\n",
    "RED = vocab.parse(\"RED\")\n",
    "SQUARE = vocab.parse(\"SQUARE\")\n",
    "ZERO = vocab.add(\"ZERO\", [0] * dim)\n",
    "\n",
    "# Create the spa.SPA network to which we can add SPA objects\n",
    "model = spa.SPA(label=\"Question Answering with Memory\", vocabs=[vocab])\n",
    "with model:\n",
    "    model.A = spa.State(dim)\n",
    "    model.B = spa.State(dim)\n",
    "    model.C = spa.State(dim)\n",
    "    model.D = spa.State(dim)\n",
    "    model.E = spa.State(dim)\n",
    "    model.memory = spa.State(dim, feedback=1)\n",
    "\n",
    "    actions = spa.Actions(\"D = A * B\", \"memory = D\", \"E = memory * ~C\")\n",
    "\n",
    "    model.cortical = spa.Cortical(actions)\n",
    "\n",
    "    # Function for providing color input\n",
    "    def color_input(t):\n",
    "        if t < 0.25:\n",
    "            return \"RED\"\n",
    "        elif t < 0.5:\n",
    "            return \"BLUE\"\n",
    "        return \"ZERO\"\n",
    "\n",
    "    # Function for providing shape input\n",
    "    def shape_input(t):\n",
    "        if t < 0.25:\n",
    "            return \"CIRCLE\"\n",
    "        elif t < 0.5:\n",
    "            return \"SQUARE\"\n",
    "        return \"ZERO\"\n",
    "\n",
    "    # Function for providing the cue\n",
    "    def cue_input(t):\n",
    "        if t < 0.5:\n",
    "            return \"ZERO\"\n",
    "        sequence = [\"ZERO\", \"CIRCLE\", \"RED\", \"ZERO\", \"SQUARE\", \"BLUE\"]\n",
    "        idx = int(((t - 0.5) // (1.0 / len(sequence))) % len(sequence))\n",
    "        return sequence[idx]\n",
    "\n",
    "    # Inputs\n",
    "    model.input = spa.Input(A=color_input, B=shape_input, C=cue_input)"
   ]
  },
  {
   "cell_type": "markdown",
   "metadata": {},
   "source": [
    "## Run the model in `nengo_gui`"
   ]
  },
  {
   "cell_type": "code",
   "execution_count": null,
   "metadata": {},
   "outputs": [],
   "source": [
    "from nengo_gui.ipython import IPythonViz\n",
    "\n",
    "IPythonViz(model, \"ch5-question-memory.py.cfg\")"
   ]
  },
  {
   "cell_type": "markdown",
   "metadata": {},
   "source": [
    "Press the play button in the visualizer to run the simulation. You should see the\n",
    "\"semantic pointer cloud\" graphs as shown in the figure below.\n",
    "\n",
    "Graphs `A`, `B`, `C` show the colour, shape and cue inputs respectively. Graph `E` shows\n",
    "that\n",
    "the output is most similar to the semantic pointer which was initially bound to the\n",
    "given cue (showin in `C`). For example, when **SQUARE** is provided as a cue, the output\n",
    "is\n",
    "most similar to **BLUE**."
   ]
  },
  {
   "cell_type": "code",
   "execution_count": null,
   "metadata": {},
   "outputs": [],
   "source": [
    "from IPython.display import Image\n",
    "\n",
    "Image(filename=\"ch5-question-memory.png\")"
   ]
  }
 ],
 "metadata": {
  "language_info": {
   "name": "python",
   "pygments_lexer": "ipython3"
  }
 },
 "nbformat": 4,
 "nbformat_minor": 1
}
