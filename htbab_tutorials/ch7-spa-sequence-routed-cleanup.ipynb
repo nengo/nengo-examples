{
 "cells": [
  {
   "cell_type": "markdown",
   "metadata": {},
   "source": [
    "# Routed Sequencing with Cleanup Memory"
   ]
  },
  {
   "cell_type": "markdown",
   "metadata": {},
   "source": [
    "This model extends the routed sequencing model by creating a scalar ensemble `cleanup`\n",
    "as explained in the book. You will project the `state` on to the `cleanup` ensemble\n",
    "using a transformation matrix `pd`, specified by the vocabulary vector **A**. This\n",
    "implies\n",
    "that each component of the state vector (i.e., the cortical element) is multiplied by\n",
    "the corresponding component of the **A** vector and summed to produce a one dimensional\n",
    "quantity represented by the `cleanup` ensemble. This operation is similar to the dot\n",
    "product of the state vector and the vocabulary vector **A**."
   ]
  },
  {
   "cell_type": "code",
   "execution_count": null,
   "metadata": {},
   "outputs": [],
   "source": [
    "# Setup for the notebook\n",
    "import numpy as np\n",
    "\n",
    "import nengo\n",
    "from nengo import spa\n",
    "from nengo.spa import Vocabulary"
   ]
  },
  {
   "cell_type": "markdown",
   "metadata": {},
   "source": [
    "## Create the Model"
   ]
  },
  {
   "cell_type": "markdown",
   "metadata": {},
   "source": [
    "This model has parameters as described in the book, with a one dimensional `cleanup`\n",
    "ensemble consisting of 100 neurons."
   ]
  },
  {
   "cell_type": "code",
   "execution_count": null,
   "metadata": {},
   "outputs": [],
   "source": [
    "# Number of dimensions for the Semantic Pointers\n",
    "dim = 16\n",
    "\n",
    "# Change the seed of this RNG to change the vocabulary\n",
    "rng = np.random.RandomState(4)\n",
    "vocab = Vocabulary(dimensions=dim, rng=rng, max_similarity=0.1)\n",
    "\n",
    "# Make a model object with the SPA network\n",
    "model = spa.SPA(label=\"Routed_Sequence with cleanupA\", vocabs=[vocab])\n",
    "\n",
    "# Create the spa.SPA network to which we can add SPA objects\n",
    "with model:\n",
    "    # Specifying the modules to be used\n",
    "    model.state = spa.State(dimensions=dim, feedback=1, feedback_synapse=0.01)\n",
    "    model.vision = spa.State(dimensions=dim)\n",
    "\n",
    "    # Specify the action mapping\n",
    "    actions = spa.Actions(\n",
    "        \"dot(vision, START) --> state = vision\",\n",
    "        \"dot(state, A) --> state = B\",\n",
    "        \"dot(state, B) --> state = C\",\n",
    "        \"dot(state, C) --> state = D\",\n",
    "        \"dot(state, D) --> state = E\",\n",
    "        \"dot(state, E) --> state = A\",\n",
    "    )\n",
    "\n",
    "    # Creating the BG and thalamus components that confirm to the specified rules\n",
    "    model.bg = spa.BasalGanglia(actions=actions)\n",
    "    model.thal = spa.Thalamus(model.bg)\n",
    "\n",
    "    # Get the transformation matrix (pd) and create the cleanup ensemble (cleanup)\n",
    "    pd = [model.get_output_vocab(\"state\")[\"A\"].v.tolist()]\n",
    "    model.cleanup = nengo.Ensemble(n_neurons=100, dimensions=1)\n",
    "\n",
    "    # Function that provides the model with an initial input semantic pointer.\n",
    "    def start(t):\n",
    "        if t < 0.4:\n",
    "            return \"0.8*START+D\"\n",
    "        return \"0\"\n",
    "\n",
    "    # Input\n",
    "    model.input = spa.Input(vision=start)\n",
    "\n",
    "    # Projecting the state of the cortex on to the cleanup ensemble using a\n",
    "    # transformation matrix 'pd'.\n",
    "    nengo.Connection(model.state.output, model.cleanup, transform=pd)"
   ]
  },
  {
   "cell_type": "markdown",
   "metadata": {},
   "source": [
    "## Run the Model"
   ]
  },
  {
   "cell_type": "code",
   "execution_count": null,
   "metadata": {},
   "outputs": [],
   "source": [
    "# Import the nengo_gui visualizer to run and visualize the model.\n",
    "from nengo_gui.ipython import IPythonViz\n",
    "\n",
    "IPythonViz(model, \"ch7-spa-sequence-routed-cleanup.py.cfg\")"
   ]
  },
  {
   "cell_type": "markdown",
   "metadata": {},
   "source": [
    "Press the play button in the visualizer to run the simulation. You should see the graphs\n",
    "as shown in the figure below.\n",
    "\n",
    "The graph on the bottom-left shows the semantic pointer representation of the values\n",
    "stored in the `state` and the response of the `cleanup` population is shown in the plot\n",
    "on the bottom-right. The plot on the top-right shows the utility (similarity) of the\n",
    "current Basal Ganglia input (i.e., `state`) with the possible vocabulary vectors. Since\n",
    "the cleanup operation is similar to a dot product between the state of the cortical\n",
    "element (`state`) and the defined vocabulary vector **A**, the value of the `cleanup`\n",
    "population rises only when the `state` (top-right graph) is **A**."
   ]
  },
  {
   "cell_type": "code",
   "execution_count": null,
   "metadata": {},
   "outputs": [],
   "source": [
    "from IPython.display import Image\n",
    "\n",
    "Image(filename=\"ch7-spa-sequence-routed-cleanup.png\")"
   ]
  }
 ],
 "metadata": {
  "language_info": {
   "name": "python",
   "pygments_lexer": "ipython3"
  }
 },
 "nbformat": 4,
 "nbformat_minor": 1
}
