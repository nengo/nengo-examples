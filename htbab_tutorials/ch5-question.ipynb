{
 "cells": [
  {
   "cell_type": "markdown",
   "metadata": {},
   "source": [
    "# Question Answering\n",
    "\n",
    "This model shows a simple form of question answering. The goal of this model is to build\n",
    "a network that will output answers to questions based on supplied statements as\n",
    "described in the book. You will bind two features (color and shape) by circular\n",
    "convolution. Then you will provide a cue to the model to determine either one of the\n",
    "features by deconvolution.\n",
    "\n",
    "**Note**: Simplified method of building the model using the SPA (semantic pointer\n",
    "architecture) package in Nengo 2.0  is shown in the last few sections of this notebook."
   ]
  },
  {
   "cell_type": "code",
   "execution_count": null,
   "metadata": {},
   "outputs": [],
   "source": [
    "# Setup the environment\n",
    "import matplotlib.pyplot as plt\n",
    "import numpy as np\n",
    "\n",
    "%matplotlib inline\n",
    "\n",
    "import nengo\n",
    "from nengo.spa import Vocabulary"
   ]
  },
  {
   "cell_type": "markdown",
   "metadata": {},
   "source": [
    "## Create the model\n",
    "This model has parameters as described in the book, with the ensembles having 300\n",
    "neurons in 20 dimensions and the bind and unbind networks having 70 neurons per\n",
    "dimension. The model relies on SPA (Semantic Pointer Architecture) methods for\n",
    "charachterizing representation, transformation and control.\n",
    "\n",
    "Depending on your computer, this model may run slowly which can be avoided by several\n",
    "ways as discussed in the book. In order to run the model in direct mode (explained in\n",
    "the book), the parameter 'neuron_type' should be set to nengo.Direct() while creating\n",
    "the ensembles.\n",
    "\n",
    "As mentioned in the book, the color input will alternate every 0.5 seconds between\n",
    "**RED**\n",
    "and **BLUE**. In the same way the shape input alternates between **CIRCLE** and\n",
    "**SQUARE**.\n",
    "Thus, the model will bind alternatingly **RED * CIRCLE** and **BLUE * SQUARE** for 0.5\n",
    "seconds each. In parallel you will ask a question from the model by providing a cue\n",
    "which will be used for deconvolving bound semantic pointers to determine an answer. For\n",
    "example, when the cue is **CIRCLE** the model should respond with **RED**. The cue will\n",
    "cycle\n",
    "through **CIRCLE**, **RED**, **SQUARE**, and **BLUE** within one second."
   ]
  },
  {
   "cell_type": "code",
   "execution_count": null,
   "metadata": {},
   "outputs": [],
   "source": [
    "dim = 20  # Number of dimensions\n",
    "n_neurons = 300  # Number of neurons in population\n",
    "n_conv = 70  # Number of neurons per dimension in bind/unbind populations\n",
    "\n",
    "rng = np.random.RandomState(0)\n",
    "vocab = Vocabulary(dimensions=dim, rng=rng, max_similarity=0.1)\n",
    "model = nengo.Network(label=\"Question Answering\", seed=7)\n",
    "\n",
    "with model:\n",
    "    # Ensembles\n",
    "    ens_A = nengo.Ensemble(n_neurons=n_neurons, dimensions=dim, label=\"A\")\n",
    "    ens_B = nengo.Ensemble(n_neurons=n_neurons, dimensions=dim, label=\"B\")\n",
    "    ens_C = nengo.Ensemble(n_neurons=n_neurons, dimensions=dim, label=\"C\")\n",
    "    ens_D = nengo.Ensemble(n_neurons=n_neurons, dimensions=dim, label=\"D\")\n",
    "    ens_E = nengo.Ensemble(n_neurons=n_neurons, dimensions=dim, label=\"E\")\n",
    "\n",
    "    # Creating the bind network\n",
    "    net_bind = nengo.networks.CircularConvolution(n_neurons=n_conv, dimensions=dim)\n",
    "    nengo.Connection(ens_A, net_bind.A)\n",
    "    nengo.Connection(ens_B, net_bind.B)\n",
    "    nengo.Connection(net_bind.output, ens_D)\n",
    "\n",
    "    # Creating the Unbind network\n",
    "    net_unbind = nengo.networks.CircularConvolution(\n",
    "        n_neurons=n_conv, dimensions=dim, invert_a=True\n",
    "    )\n",
    "    nengo.Connection(ens_C, net_unbind.A)\n",
    "    nengo.Connection(ens_D, net_unbind.B)\n",
    "    nengo.Connection(net_unbind.output, ens_E)\n",
    "\n",
    "    # Getting semantic pointer values\n",
    "    CIRCLE = vocab.parse(\"CIRCLE\").v\n",
    "    BLUE = vocab.parse(\"BLUE\").v\n",
    "    RED = vocab.parse(\"RED\").v\n",
    "    SQUARE = vocab.parse(\"SQUARE\").v\n",
    "    ZERO = [0] * dim\n",
    "\n",
    "    # Function for providing color input\n",
    "    def color_input(t):\n",
    "        if (t // 0.5) % 2 == 0:\n",
    "            return RED\n",
    "        return BLUE\n",
    "\n",
    "    # Function for providing shape input\n",
    "    def shape_input(t):\n",
    "        if (t // 0.5) % 2 == 0:\n",
    "            return CIRCLE\n",
    "        return SQUARE\n",
    "\n",
    "    # Function for providing the cue\n",
    "    def cue_input(t):\n",
    "        sequence = [ZERO, CIRCLE, RED, ZERO, SQUARE, BLUE]\n",
    "        idx = int((t // (1.0 / len(sequence))) % len(sequence))\n",
    "        return sequence[idx]\n",
    "\n",
    "    # Defining inputs\n",
    "    input_A = nengo.Node(output=color_input, size_out=dim, label=\"Input A\")\n",
    "    input_B = nengo.Node(output=shape_input, size_out=dim, label=\"Input B\")\n",
    "    input_C = nengo.Node(output=cue_input, size_out=dim, label=\"Input C\")\n",
    "\n",
    "    # Connecting input to ensembles\n",
    "    nengo.Connection(input_A, ens_A)\n",
    "    nengo.Connection(input_B, ens_B)\n",
    "    nengo.Connection(input_C, ens_C)"
   ]
  },
  {
   "cell_type": "markdown",
   "metadata": {},
   "source": [
    "## Add Probes to Collect Data"
   ]
  },
  {
   "cell_type": "markdown",
   "metadata": {},
   "source": [
    "Anything that is probed will collect the data it produces over time, allowing you to\n",
    "analyze and visualize it later."
   ]
  },
  {
   "cell_type": "code",
   "execution_count": null,
   "metadata": {},
   "outputs": [],
   "source": [
    "with model:\n",
    "    A_probe = nengo.Probe(ens_A, synapse=0.03)\n",
    "    B_probe = nengo.Probe(ens_B, synapse=0.03)\n",
    "    C_probe = nengo.Probe(ens_C, synapse=0.03)\n",
    "    D_probe = nengo.Probe(ens_D, synapse=0.03)\n",
    "    E_probe = nengo.Probe(ens_E, synapse=0.03)"
   ]
  },
  {
   "cell_type": "markdown",
   "metadata": {},
   "source": [
    "## Run the model"
   ]
  },
  {
   "cell_type": "markdown",
   "metadata": {},
   "source": [
    "In order to run the model without nengo_gui, you have to create a Nengo simulator. Then,\n",
    "you\n",
    "can run that simulator over and over again without affecting the original model."
   ]
  },
  {
   "cell_type": "code",
   "execution_count": null,
   "metadata": {},
   "outputs": [],
   "source": [
    "with nengo.Simulator(model) as sim:  # Create the simulator\n",
    "    sim.run(3.0)  # Run it for 3 seconds"
   ]
  },
  {
   "cell_type": "markdown",
   "metadata": {},
   "source": [
    "## Plot the results"
   ]
  },
  {
   "cell_type": "code",
   "execution_count": null,
   "metadata": {},
   "outputs": [],
   "source": [
    "plt.figure(figsize=(10, 10))\n",
    "\n",
    "plt.subplot(5, 1, 1)\n",
    "plt.plot(sim.trange(), nengo.spa.similarity(sim.data[A_probe], vocab))\n",
    "plt.legend(vocab.keys, bbox_to_anchor=(1.05, 1), loc=2, borderaxespad=0.0, fontsize=9)\n",
    "plt.ylabel(\"color\")\n",
    "\n",
    "plt.subplot(5, 1, 2)\n",
    "plt.plot(sim.trange(), nengo.spa.similarity(sim.data[B_probe], vocab))\n",
    "plt.legend(vocab.keys, bbox_to_anchor=(1.05, 1), loc=2, borderaxespad=0.0, fontsize=9)\n",
    "plt.ylabel(\"shape\")\n",
    "\n",
    "plt.subplot(5, 1, 3)\n",
    "plt.plot(sim.trange(), nengo.spa.similarity(sim.data[C_probe], vocab))\n",
    "plt.legend(vocab.keys, bbox_to_anchor=(1.05, 1), loc=2, borderaxespad=0.0, fontsize=9)\n",
    "plt.ylabel(\"cue\")\n",
    "\n",
    "plt.subplot(5, 1, 4)\n",
    "for pointer in [\"RED * CIRCLE\", \"BLUE * SQUARE\"]:\n",
    "    plt.plot(sim.trange(), vocab.parse(pointer).dot(sim.data[D_probe].T), label=pointer)\n",
    "plt.legend(bbox_to_anchor=(1.05, 1), loc=2, borderaxespad=0.0, fontsize=9)\n",
    "plt.ylabel(\"bound\")\n",
    "\n",
    "plt.subplot(5, 1, 5)\n",
    "plt.plot(sim.trange(), nengo.spa.similarity(sim.data[E_probe], vocab))\n",
    "plt.legend(vocab.keys, bbox_to_anchor=(1.05, 1), loc=2, borderaxespad=0.0, fontsize=9)\n",
    "plt.ylabel(\"Output\")\n",
    "plt.xlabel(\"time [s]\")"
   ]
  },
  {
   "cell_type": "markdown",
   "metadata": {},
   "source": [
    "The last graph shows that the output is most similar to the semantic pointer bound to\n",
    "the current cue. For example, when **RED** and **CIRCLE** are being bound and the cue is\n",
    "**CIRCLE**, the output is most similar to **RED**."
   ]
  },
  {
   "cell_type": "markdown",
   "metadata": {},
   "source": [
    "## Create the model using the `nengo.spa` package"
   ]
  },
  {
   "cell_type": "markdown",
   "metadata": {},
   "source": [
    "Now we will build this model again, using the `nengo.spa`\n",
    "package built into Nengo 2.0. You will see that using the SPA package considerably\n",
    "simplifies model construction and visualization through `nengo_gui`."
   ]
  },
  {
   "cell_type": "code",
   "execution_count": null,
   "metadata": {},
   "outputs": [],
   "source": [
    "from nengo import spa\n",
    "\n",
    "dim = 32  # The dimensionality of the vectors\n",
    "rng = np.random.RandomState(4)\n",
    "vocab = Vocabulary(dimensions=dim, rng=rng, max_similarity=0.1)\n",
    "\n",
    "# Adding semantic pointers to the vocabulary\n",
    "CIRCLE = vocab.parse(\"CIRCLE\")\n",
    "BLUE = vocab.parse(\"BLUE\")\n",
    "RED = vocab.parse(\"RED\")\n",
    "SQUARE = vocab.parse(\"SQUARE\")\n",
    "ZERO = vocab.add(\"ZERO\", [0] * dim)\n",
    "\n",
    "# Create the spa.SPA network to which we can add SPA objects\n",
    "model = spa.SPA(label=\"Question Answering\", vocabs=[vocab])\n",
    "with model:\n",
    "    model.A = spa.State(dim)\n",
    "    model.B = spa.State(dim)\n",
    "    model.C = spa.State(dim)\n",
    "    model.D = spa.State(dim)\n",
    "    model.E = spa.State(dim)\n",
    "\n",
    "    actions = spa.Actions(\n",
    "        \"D = A * B\",\n",
    "        \"E = D * ~C\",\n",
    "    )\n",
    "\n",
    "    model.cortical = spa.Cortical(actions)\n",
    "\n",
    "    # Function for providing color input\n",
    "    def color_input(t):\n",
    "        if (t // 0.5) % 2 == 0:\n",
    "            return \"RED\"\n",
    "        return \"BLUE\"\n",
    "\n",
    "    # Function for providing shape input\n",
    "    def shape_input(t):\n",
    "        if (t // 0.5) % 2 == 0:\n",
    "            return \"CIRCLE\"\n",
    "        return \"SQUARE\"\n",
    "\n",
    "    # Function for providing the cue\n",
    "    def cue_input(t):\n",
    "        sequence = [\"ZERO\", \"CIRCLE\", \"RED\", \"ZERO\", \"SQUARE\", \"BLUE\"]\n",
    "        idx = int((t // (1.0 / len(sequence))) % len(sequence))\n",
    "        return sequence[idx]\n",
    "\n",
    "    # Inputs\n",
    "    model.input = spa.Input(A=color_input, B=shape_input, C=cue_input)"
   ]
  },
  {
   "cell_type": "markdown",
   "metadata": {},
   "source": [
    "## Run the model in `nengo_gui`"
   ]
  },
  {
   "cell_type": "code",
   "execution_count": null,
   "metadata": {},
   "outputs": [],
   "source": [
    "from nengo_gui.ipython import IPythonViz\n",
    "\n",
    "IPythonViz(model, \"ch5-question.py.cfg\")"
   ]
  },
  {
   "cell_type": "markdown",
   "metadata": {},
   "source": [
    "Press the play button in the visualizer to run the simulation. You should see the graphs\n",
    "as shown in the figure below.\n",
    "\n",
    "Graphs `A`, `B`, `C` show the colour, shape and cue inputs respectively. Graph `E` shows\n",
    "that the output is most similar to the semantic pointer bound to the current cue (showin\n",
    "in `C`). For example, when **RED** and **CIRCLE** are being bound and the cue is\n",
    "**CIRCLE**, the\n",
    "output is most similar to **RED**."
   ]
  },
  {
   "cell_type": "code",
   "execution_count": null,
   "metadata": {},
   "outputs": [],
   "source": [
    "from IPython.display import Image\n",
    "\n",
    "Image(filename=\"ch5-question.png\")"
   ]
  }
 ],
 "metadata": {
  "language_info": {
   "name": "python",
   "pygments_lexer": "ipython3"
  }
 },
 "nbformat": 4,
 "nbformat_minor": 1
}
