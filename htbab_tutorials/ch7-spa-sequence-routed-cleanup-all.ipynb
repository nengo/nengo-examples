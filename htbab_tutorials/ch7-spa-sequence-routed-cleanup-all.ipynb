{
 "cells": [
  {
   "cell_type": "markdown",
   "metadata": {},
   "source": [
    "# Routed Sequencing with Cleanup all Memory"
   ]
  },
  {
   "cell_type": "markdown",
   "metadata": {},
   "source": [
    "The previous model on \"Routed Sequencing with Cleanup Memory\" used a scalar ensemble to\n",
    "project only state **A**. In this model, you will project all the states onto an\n",
    "ensemble\n",
    "of neurons as the state cycles through a five element sequence."
   ]
  },
  {
   "cell_type": "code",
   "execution_count": null,
   "metadata": {},
   "outputs": [],
   "source": [
    "# Setup the environment\n",
    "import numpy as np\n",
    "\n",
    "import nengo\n",
    "from nengo import spa  # import spa related packages\n",
    "from nengo.spa import Vocabulary"
   ]
  },
  {
   "cell_type": "markdown",
   "metadata": {},
   "source": [
    "## Create the model"
   ]
  },
  {
   "cell_type": "markdown",
   "metadata": {},
   "source": [
    "This model has parameters as described in the book. It extends the routed sequencing\n",
    "model by creating a scalar ensemble `cleanup` and then projecting all the states on to\n",
    "this ensemble using a transformation matrix `pd`, specified by the vectors in the\n",
    "vocabulary."
   ]
  },
  {
   "cell_type": "code",
   "execution_count": null,
   "metadata": {},
   "outputs": [],
   "source": [
    "# Number of dimensions for the Semantic Pointers\n",
    "dim = 16\n",
    "\n",
    "# Change the seed of this RNG to change the vocabulary\n",
    "rng = np.random.RandomState(4)\n",
    "vocab = Vocabulary(dimensions=dim, rng=rng, max_similarity=0.1)\n",
    "\n",
    "# Make a model object with the SPA network\n",
    "model = spa.SPA(label=\"Routed_Sequence with cleanupAll\", vocabs=[vocab])\n",
    "\n",
    "with model:\n",
    "    # Specify the modules to be used\n",
    "    model.state = spa.State(dimensions=dim, feedback=1, feedback_synapse=0.01)\n",
    "    model.vision = spa.State(dimensions=dim)\n",
    "    # Specify the action mapping\n",
    "    actions = spa.Actions(\n",
    "        \"dot(vision, START) --> state = vision\",\n",
    "        \"dot(state, A) --> state = B\",\n",
    "        \"dot(state, B) --> state = C\",\n",
    "        \"dot(state, C) --> state = D\",\n",
    "        \"dot(state, D) --> state = E\",\n",
    "        \"dot(state, E) --> state = A\",\n",
    "    )\n",
    "\n",
    "    # Creating the BG and thalamus components that confirm to the specified rules\n",
    "    model.bg = spa.BasalGanglia(actions=actions)\n",
    "    model.thal = spa.Thalamus(model.bg)\n",
    "\n",
    "    # Get vocabulary items in order of creation\n",
    "    vsize = len((model.get_output_vocab(\"state\").keys))\n",
    "    vocab_items = []\n",
    "    for index in range(vsize):\n",
    "        vocab_items.append(model.get_output_vocab(\"state\").keys[index])\n",
    "\n",
    "    # Creating the transformation matrix (pd) and cleanup SPA State (cleanup)\n",
    "    pd = []\n",
    "    for item in vocab_items:\n",
    "        pd.append([model.get_output_vocab(\"state\")[item].v.tolist()])\n",
    "\n",
    "    model.cleanup = nengo.Ensemble(n_neurons=300, dimensions=vsize)\n",
    "\n",
    "    # Function that provides the model with an initial input semantic pointer.\n",
    "    def start(t):\n",
    "        if t < 0.4:\n",
    "            return \"0.8*START+D\"\n",
    "        return \"0\"\n",
    "\n",
    "    # Input\n",
    "    model.input = spa.Input(vision=start)\n",
    "\n",
    "    # Projecting the state on to the cleanup ensemble using a transformation matrix 'pd'.\n",
    "    # Note that the first item in the vocabulary (`START`) is ignored.\n",
    "    for i in range(1, vsize):\n",
    "        nengo.Connection(model.state.output, model.cleanup[i], transform=pd[i])"
   ]
  },
  {
   "cell_type": "markdown",
   "metadata": {},
   "source": [
    "## Run the model"
   ]
  },
  {
   "cell_type": "code",
   "execution_count": null,
   "metadata": {},
   "outputs": [],
   "source": [
    "# Import the nengo_gui visualizer to run and visualize the model.\n",
    "from nengo_gui.ipython import IPythonViz\n",
    "\n",
    "IPythonViz(model, \"ch7-spa-sequence-routed-cleanup-all.py.cfg\")"
   ]
  },
  {
   "cell_type": "markdown",
   "metadata": {},
   "source": [
    "Press the play button in the visualizer to run the simulation. You should see the graphs\n",
    "as shown in the figure below.\n",
    "\n",
    "The graph in the middle shows the semantic pointer representation of the values stored\n",
    "in `state` and the plot on the bottom-right shows the response of the `cleanup`\n",
    "population. and the graph on the top-right shows the utility (similarity) of the current\n",
    "Basal Ganglia input (i.e., `state`) with the possible vocabulary vectors.\n",
    "\n",
    "Since the cleanup operation is similar to a dot product between the state and the\n",
    "defined vocabulary vectors, the value of the `cleanup` population in a particular\n",
    "dimension rises only when the value of `state` (top-right graph) corresponds to that\n",
    "particular dimension."
   ]
  },
  {
   "cell_type": "code",
   "execution_count": null,
   "metadata": {},
   "outputs": [],
   "source": [
    "from IPython.display import Image\n",
    "\n",
    "Image(filename=\"ch7-spa-sequence-routed-cleanup-all.png\")"
   ]
  }
 ],
 "metadata": {
  "language_info": {
   "name": "python",
   "pygments_lexer": "ipython3"
  }
 },
 "nbformat": 4,
 "nbformat_minor": 1
}
