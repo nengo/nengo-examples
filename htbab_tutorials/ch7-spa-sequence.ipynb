{
 "cells": [
  {
   "cell_type": "markdown",
   "metadata": {},
   "source": [
    "# Sequencing"
   ]
  },
  {
   "cell_type": "markdown",
   "metadata": {},
   "source": [
    "This model uses the basal ganglia model to cycle through a sequence of five\n",
    "representations (i.e., **A** -> **B** -> **C** -> **D** -> **E** -> **A** -> ...). The\n",
    "model incorporates a working memory\n",
    "component (memory), which allows the Basal Ganglia to update that memory based on a set\n",
    "of condition/action mappings."
   ]
  },
  {
   "cell_type": "code",
   "execution_count": null,
   "metadata": {},
   "outputs": [],
   "source": [
    "# Setup the environment\n",
    "from nengo import spa  # import spa related packages"
   ]
  },
  {
   "cell_type": "markdown",
   "metadata": {},
   "source": [
    "## Create the model"
   ]
  },
  {
   "cell_type": "markdown",
   "metadata": {},
   "source": [
    "The model has parameters as described in the book. In the book (Nengo 1.4) separate\n",
    "\"Rules\"\n",
    "and \"Sequence\" classes were created. However, this is not needed in Nengo 2.0 since you\n",
    "can directly specify the rules using the built-in \"Actions\" class in the `nengo.spa`\n",
    "package.\n",
    "This class takes a string definition of the action as an\n",
    "input as shown in the code where `-->` is used to split the action into condition and\n",
    "effect. If no `-->` is used, it is treated as having no condition and just effect.\n",
    "\n",
    "The syntax for creating an input function in Nengo 2.0 is also different from that in\n",
    "Nengo 1.4 mentioned in the book. The syntax for Nengo 2.0, which you will use here, is\n",
    "`spa.Input(<module>=<function>)`. The first parameter `<module>` refers to name of the\n",
    "module\n",
    "that you want to provide input to and the second parameter `<function>` refers to the\n",
    "function to execute to generate inputs to that module. The functions should always\n",
    "return strings, which will then be parsed by the relevant SPA vocabulary.\n",
    "\n",
    "In Nengo 1.4, a memory element for representing the `state` was created by using the\n",
    "`Buffer()` object as described in the book. However, in Nengo 2.0, you will use the\n",
    "`State()` object\n",
    "with the `feedback` parameter set to 1 for creating a memory module capable of storing a\n",
    "vector over time."
   ]
  },
  {
   "cell_type": "code",
   "execution_count": null,
   "metadata": {},
   "outputs": [],
   "source": [
    "# Number of dimensions for the Semantic Pointers\n",
    "dim = 16\n",
    "\n",
    "# Create the spa.SPA network to which we can add SPA objects\n",
    "model = spa.SPA(label=\"Sequence\")\n",
    "with model:\n",
    "    # Creating a working memory/cortical element\n",
    "    model.state = spa.State(dimensions=dim, feedback=1, feedback_synapse=0.01)\n",
    "\n",
    "    # Specifying the action mappings (rules) for BG and Thal\n",
    "    actions = spa.Actions(\n",
    "        \"dot(state, A) --> state = B\",\n",
    "        \"dot(state, B) --> state = C\",\n",
    "        \"dot(state, C) --> state = D\",\n",
    "        \"dot(state, D) --> state = E\",\n",
    "        \"dot(state, E) --> state = A\",\n",
    "    )\n",
    "\n",
    "    # Creating the BG and thalamus components that confirm to the specified rules\n",
    "    model.bg = spa.BasalGanglia(actions=actions)\n",
    "    model.thal = spa.Thalamus(model.bg)\n",
    "\n",
    "    # Function that provides the model with an initial input semantic pointer.\n",
    "    def start(t):\n",
    "        if t < 0.1:  # Duration of the initial input = 0.1\n",
    "            return \"D\"\n",
    "        return \"0\"\n",
    "\n",
    "    # Input\n",
    "    model.input = spa.Input(state=start)"
   ]
  },
  {
   "cell_type": "markdown",
   "metadata": {},
   "source": [
    "## Run the model"
   ]
  },
  {
   "cell_type": "code",
   "execution_count": null,
   "metadata": {},
   "outputs": [],
   "source": [
    "# Import the nengo_gui visualizer to run and visualize the model.\n",
    "from nengo_gui.ipython import IPythonViz\n",
    "\n",
    "IPythonViz(model, \"ch7-spa-sequence.py.cfg\")"
   ]
  },
  {
   "cell_type": "markdown",
   "metadata": {},
   "source": [
    "Press the play button in the visualizer to run the simulation. You should see the graphs\n",
    "as shown in the figure below.\n",
    "\n",
    "The graph on the top-left shows the semantic pointer representation of the values stored\n",
    "in the `state` ensemble. The plot on the bottom-right shows the current transition or\n",
    "the action being executed, and the plot on the top-right shows the utility (similarity)\n",
    "of the current Basal Ganglia input (i.e., `state`) with the possible vocabulary vectors.\n",
    "\n",
    "The book describes that the results of the model can be seen through the visualizer in\n",
    "Nengo 1.4 GUI which has a \"Utility\" box and the \"Rules\" box. Note that the bottom-right\n",
    "plot shows the same information as seen in the \"Rules\" box and top-right plot shows\n",
    "the same information as seen in the \"Utility\" box."
   ]
  },
  {
   "cell_type": "code",
   "execution_count": null,
   "metadata": {},
   "outputs": [],
   "source": [
    "from IPython.display import Image\n",
    "\n",
    "Image(filename=\"ch7-spa-sequence.png\")"
   ]
  }
 ],
 "metadata": {
  "language_info": {
   "name": "python",
   "pygments_lexer": "ipython3"
  }
 },
 "nbformat": 4,
 "nbformat_minor": 1
}
