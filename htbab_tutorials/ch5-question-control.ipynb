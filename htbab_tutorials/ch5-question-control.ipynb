{
 "cells": [
  {
   "cell_type": "markdown",
   "metadata": {},
   "source": [
    "# Question Answering with Control\n",
    "\n",
    "This model shows a form of question answering where statements and questions are\n",
    "supplied through a single \"visual input\" and the replies are produced in a \"motor\n",
    "output\" as discussed in the book. You will implement this by using the Basal Ganglia to\n",
    "store and retrieve information from working memory in response to visual input. More\n",
    "specifically, the Basal Ganglia decides what to do with the information in the visual\n",
    "channel based on its content (i.e. whether it is a statement or a question).\n",
    "\n",
    "**Note**: Simplified method of building the model using the SPA (semantic pointer\n",
    "architecture) package in Nengo 2.0 is shown in the last few sections of this notebook."
   ]
  },
  {
   "cell_type": "code",
   "execution_count": null,
   "metadata": {},
   "outputs": [],
   "source": [
    "# Setup the environment\n",
    "import matplotlib.pyplot as plt\n",
    "import numpy as np\n",
    "\n",
    "%matplotlib inline\n",
    "\n",
    "import nengo\n",
    "from nengo.spa import Vocabulary\n",
    "from nengo.dists import Uniform"
   ]
  },
  {
   "cell_type": "markdown",
   "metadata": {},
   "source": [
    "## Create the model\n",
    "\n",
    "This model has parameters as described in the book. Note that in Nengo 1.4, network\n",
    "arrays were used to construct this model for computational reasons as explained in the\n",
    "book. Nengo 2.0 has 'EnsembleArray' as an equivalent to network arrays which you will\n",
    "use in this model.\n",
    "\n",
    "When you run the model, it will start by binding **RED** and **CIRCLE** and then binding\n",
    "**BLUE** and **SQUARE** so the memory essentially has **RED * CIRCLE + BLUE * SQUARE**.\n",
    "This\n",
    "is stored in memory because the model is told that **RED * CIRCLE** is a **STATEMENT**\n",
    "(i.e.\n",
    "**RED * CIRCLE + STATEMENT** in the code) as is **BLUE * SQUARE**. Then it is presented\n",
    "with\n",
    "something like **QUESTION + RED** (i.e., \"What is red?\"). The Basal Ganglia then\n",
    "reroutes\n",
    "that input to be compared to what is in working memory and the result shows up in the\n",
    "motor channel."
   ]
  },
  {
   "cell_type": "code",
   "execution_count": null,
   "metadata": {},
   "outputs": [],
   "source": [
    "dim = 100  # Number of dimensions\n",
    "n_neurons = 30  # Neurons per dimension\n",
    "n_conv = 70  # Number of neurons per dimension in bind/unbind populations\n",
    "n_mem = 50  # Number of neurons per dimension in memory population\n",
    "\n",
    "# Defining a zero vector having length equal to the number of dimensions\n",
    "ZERO = [0] * dim\n",
    "\n",
    "# Creating the vocabulary\n",
    "rng = np.random.RandomState(15)\n",
    "vocab = Vocabulary(dimensions=dim, rng=rng, max_similarity=0.05)\n",
    "\n",
    "# Create the network object to which we can add ensembles, connections, etc.\n",
    "model = nengo.Network(label=\"Question Answering with Control\", seed=15)\n",
    "with model:\n",
    "    # Ensembles\n",
    "    visual = nengo.networks.EnsembleArray(\n",
    "        n_neurons=n_neurons,\n",
    "        n_ensembles=dim,\n",
    "        max_rates=Uniform(100, 300),\n",
    "        label=\"Visual\",\n",
    "    )\n",
    "    channel = nengo.networks.EnsembleArray(\n",
    "        n_neurons=n_neurons, n_ensembles=dim, label=\"Channel\"\n",
    "    )\n",
    "    motor = nengo.networks.EnsembleArray(\n",
    "        n_neurons=n_neurons, n_ensembles=dim, label=\"Motor\"\n",
    "    )\n",
    "\n",
    "    # Creating a memory (integrator)\n",
    "    tau = 0.1\n",
    "    memory = nengo.networks.EnsembleArray(\n",
    "        n_neurons=n_mem, n_ensembles=dim, label=\"Memory\"\n",
    "    )\n",
    "    nengo.Connection(memory.output, memory.input, synapse=tau)\n",
    "\n",
    "    # Function for providing visual input\n",
    "    def visual_input(t):\n",
    "        if 0.1 < t < 0.3:\n",
    "            return vocab.parse(\"STATEMENT+RED*CIRCLE\").v\n",
    "        elif 0.35 < t < 0.5:\n",
    "            return vocab.parse(\"STATEMENT+BLUE*SQUARE\").v\n",
    "        elif 0.55 < t < 0.7:\n",
    "            return vocab.parse(\"QUESTION+BLUE\").v\n",
    "        elif 0.75 < t < 0.9:\n",
    "            return vocab.parse(\"QUESTION+CIRCLE\").v\n",
    "        return ZERO\n",
    "\n",
    "    # Function for flipping the output of the thalamus\n",
    "    def x_biased(x):\n",
    "        return [1 - x]\n",
    "\n",
    "    # Providing input to the model\n",
    "    vis_stim = nengo.Node(output=visual_input, size_out=dim, label=\"Input stimulus\")\n",
    "    nengo.Connection(vis_stim, visual.input)\n",
    "\n",
    "    nengo.Connection(visual.output, channel.input, synapse=0.02)\n",
    "    nengo.Connection(channel.output, memory.input)\n",
    "\n",
    "    # Creating the unbind network\n",
    "    unbind = nengo.networks.CircularConvolution(\n",
    "        n_neurons=n_conv, dimensions=dim, invert_a=True\n",
    "    )\n",
    "    nengo.Connection(visual.output, unbind.A)\n",
    "    nengo.Connection(memory.output, unbind.B)\n",
    "    nengo.Connection(unbind.output, motor.input)\n",
    "\n",
    "    # Creating the basal ganglia and the thalamus network\n",
    "    bg = nengo.networks.BasalGanglia(dimensions=2)\n",
    "    thal = nengo.networks.Thalamus(dimensions=2)\n",
    "    nengo.Connection(bg.output, thal.input, synapse=0.01)\n",
    "\n",
    "    # Defining the transforms for connecting the visual input to the BG\n",
    "    trans0 = np.matrix(vocab.parse(\"STATEMENT\").v)\n",
    "    trans1 = np.matrix(vocab.parse(\"QUESTION\").v)\n",
    "    nengo.Connection(visual.output, bg.input[0], transform=trans0)\n",
    "    nengo.Connection(visual.output, bg.input[1], transform=trans1)\n",
    "\n",
    "    # Connecting thalamus output to the two gates gating the channel and the motor populations\n",
    "    passthrough = nengo.Ensemble(n_neurons, 2)\n",
    "    nengo.Connection(thal.output, passthrough)\n",
    "\n",
    "    gate0 = nengo.Ensemble(n_neurons, 1, label=\"Gate0\")\n",
    "    nengo.Connection(passthrough[0], gate0, function=x_biased, synapse=0.01)\n",
    "    gate1 = nengo.Ensemble(n_neurons, 1, label=\"Gate1\")\n",
    "    nengo.Connection(passthrough[1], gate1, function=x_biased, synapse=0.01)\n",
    "\n",
    "    for ensemble in channel.ea_ensembles:\n",
    "        nengo.Connection(gate0, ensemble.neurons, transform=[[-3]] * gate0.n_neurons)\n",
    "\n",
    "    for ensemble in motor.ea_ensembles:\n",
    "        nengo.Connection(gate1, ensemble.neurons, transform=[[-3]] * gate1.n_neurons)"
   ]
  },
  {
   "cell_type": "markdown",
   "metadata": {},
   "source": [
    "## Add Probes to Collect Data"
   ]
  },
  {
   "cell_type": "code",
   "execution_count": null,
   "metadata": {},
   "outputs": [],
   "source": [
    "with model:\n",
    "    Visual_p = nengo.Probe(visual.output, synapse=0.03)\n",
    "    Motor_p = nengo.Probe(motor.output, synapse=0.03)\n",
    "    Memory_p = nengo.Probe(memory.output, synapse=0.03)"
   ]
  },
  {
   "cell_type": "markdown",
   "metadata": {},
   "source": [
    "## Run The Model"
   ]
  },
  {
   "cell_type": "code",
   "execution_count": null,
   "metadata": {},
   "outputs": [],
   "source": [
    "with nengo.Simulator(model) as sim:  # Create the simulator\n",
    "    sim.run(1.2)  # Run it for 1.2 seconds"
   ]
  },
  {
   "cell_type": "markdown",
   "metadata": {},
   "source": [
    "## Plot The Results"
   ]
  },
  {
   "cell_type": "code",
   "execution_count": null,
   "metadata": {},
   "outputs": [],
   "source": [
    "plt.figure(figsize=(10, 10))\n",
    "\n",
    "plt.subplot(6, 1, 1)\n",
    "plt.plot(sim.trange(), nengo.spa.similarity(sim.data[Visual_p], vocab))\n",
    "plt.legend(vocab.keys, bbox_to_anchor=(1.05, 1), loc=2, borderaxespad=0.0, fontsize=9)\n",
    "plt.ylabel(\"Visual\")\n",
    "\n",
    "plt.subplot(6, 1, 2)\n",
    "plt.plot(sim.trange(), nengo.spa.similarity(sim.data[Memory_p], vocab))\n",
    "plt.legend(vocab.keys, bbox_to_anchor=(1.05, 1), loc=2, borderaxespad=0.0, fontsize=9)\n",
    "plt.ylabel(\"Memory\")\n",
    "\n",
    "plt.subplot(6, 1, 3)\n",
    "plt.plot(sim.trange(), nengo.spa.similarity(sim.data[Motor_p], vocab))\n",
    "plt.legend(vocab.keys, bbox_to_anchor=(1.05, 1), loc=2, borderaxespad=0.0, fontsize=9)\n",
    "plt.ylabel(\"Motor\")"
   ]
  },
  {
   "cell_type": "markdown",
   "metadata": {},
   "source": [
    "The graphs above show that when the input to the `visual` system is a **STATEMENT**,\n",
    "there\n",
    "is no response from the `motor` system and the input is stored in the `memory`. However,\n",
    "when the input to the `visual` system is a **QUESTION**, the `motor` system responds\n",
    "with the\n",
    "appropriate answer. For instance, when the input to `visual` system is **QUESTION +\n",
    "CIRCLE** the output\n",
    "from the `motor` system is **RED** (as the `memory` previously stored **RED * CIRCLE**)."
   ]
  },
  {
   "cell_type": "markdown",
   "metadata": {},
   "source": [
    "## Create the model using the `nengo.spa` package"
   ]
  },
  {
   "cell_type": "code",
   "execution_count": null,
   "metadata": {},
   "outputs": [],
   "source": [
    "from nengo import spa\n",
    "\n",
    "dim = 32  # The dimensionality of the vectors\n",
    "rng = np.random.RandomState(11)\n",
    "vocab = Vocabulary(dimensions=dim, rng=rng, max_similarity=0.1)\n",
    "\n",
    "# Adding semantic pointers to the vocabulary\n",
    "CIRCLE = vocab.parse(\"CIRCLE\")\n",
    "BLUE = vocab.parse(\"BLUE\")\n",
    "RED = vocab.parse(\"RED\")\n",
    "SQUARE = vocab.parse(\"SQUARE\")\n",
    "ZERO = vocab.add(\"ZERO\", [0] * dim)\n",
    "\n",
    "# Create the spa.SPA network to which we can add SPA objects\n",
    "model = spa.SPA(label=\"Question Answering with Control\", vocabs=[vocab])\n",
    "with model:\n",
    "    model.visual = spa.State(dim)\n",
    "    model.motor = spa.State(dim)\n",
    "    model.memory = spa.State(dim, feedback=1, feedback_synapse=0.1)\n",
    "\n",
    "    actions = spa.Actions(\n",
    "        \"dot(visual, STATEMENT) --> memory=visual\",\n",
    "        \"dot(visual, QUESTION) --> motor = memory * ~visual\",\n",
    "    )\n",
    "\n",
    "    model.bg = spa.BasalGanglia(actions)\n",
    "    model.thalamus = spa.Thalamus(model.bg)\n",
    "\n",
    "    # Function for providing visual input\n",
    "    def visual_input(t):\n",
    "        if 0.1 < t < 0.3:\n",
    "            return \"STATEMENT+RED*CIRCLE\"\n",
    "        elif 0.35 < t < 0.5:\n",
    "            return \"STATEMENT+BLUE*SQUARE\"\n",
    "        elif 0.55 < t < 0.7:\n",
    "            return \"QUESTION+BLUE\"\n",
    "        elif 0.75 < t < 0.9:\n",
    "            return \"QUESTION+CIRCLE\"\n",
    "        return \"ZERO\"\n",
    "\n",
    "    # Inputs\n",
    "    model.input = spa.Input(visual=visual_input)"
   ]
  },
  {
   "cell_type": "markdown",
   "metadata": {},
   "source": [
    "## Run the model in nengo_gui"
   ]
  },
  {
   "cell_type": "code",
   "execution_count": null,
   "metadata": {},
   "outputs": [],
   "source": [
    "from nengo_gui.ipython import IPythonViz\n",
    "\n",
    "IPythonViz(model, \"ch5-question-control.py.cfg\")"
   ]
  },
  {
   "cell_type": "markdown",
   "metadata": {},
   "source": [
    "\n",
    "Press the play button in the visualizer to run the simulation. You should see the\n",
    "\"semantic pointer cloud\" graphs as shown in the figure below.\n",
    "\n",
    "The visual graph shows the input represented by `visual`. When this input is a\n",
    "**STATEMENT**, there is no response shown in the motor graph and the input is stored in\n",
    "`memory` (shown in memory graph). However, when the input to the `visual` is a\n",
    "**QUESTION**,\n",
    "the motor graph shows the appropriate answer. For instance, when the input to `visual`\n",
    "is **QUESTION + BLUE** (shown in the visual graphs), the output from `motor` is\n",
    "**SQUARE**."
   ]
  },
  {
   "cell_type": "code",
   "execution_count": null,
   "metadata": {},
   "outputs": [],
   "source": [
    "from IPython.display import Image\n",
    "\n",
    "Image(filename=\"ch5-question-control-1.png\")"
   ]
  },
  {
   "cell_type": "code",
   "execution_count": null,
   "metadata": {},
   "outputs": [],
   "source": [
    "Image(filename=\"ch5-question-control-2.png\")"
   ]
  }
 ],
 "metadata": {
  "language_info": {
   "name": "python",
   "pygments_lexer": "ipython3"
  }
 },
 "nbformat": 4,
 "nbformat_minor": 1
}
