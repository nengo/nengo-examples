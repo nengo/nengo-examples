{
 "cells": [
  {
   "cell_type": "markdown",
   "metadata": {},
   "source": [
    "# Learning a communication channel\n",
    "\n",
    "This model shows how to include synaptic plasticity in nengo models using the hPES\n",
    "learning rule. You will implement error-driven learning to learn to compute a simple\n",
    "communication channel. This is done by using an error signal provided by a neural\n",
    "ensemble to modulate the connection between two other ensembles."
   ]
  },
  {
   "cell_type": "code",
   "execution_count": null,
   "metadata": {},
   "outputs": [],
   "source": [
    "# Setup the environment\n",
    "import numpy as np\n",
    "\n",
    "import nengo\n",
    "from nengo.processes import WhiteSignal"
   ]
  },
  {
   "cell_type": "markdown",
   "metadata": {},
   "source": [
    "## Create the Model"
   ]
  },
  {
   "cell_type": "markdown",
   "metadata": {},
   "source": [
    "The model has parameters as described in the book. Note that hPES learning rule is built\n",
    "into Nengo 1.4 as mentioned in the book. The same rule can be implemented in Nengo 2.0\n",
    "by combining the PES and the BCM rule as shown in the code.  Also, instead of using the\n",
    "\"gate\" and \"switch\" as described in the book, an \"inhibit\" population is used which\n",
    "serves the same purpose of turning off the learning by inhibiting the error population.\n",
    "\n",
    "Note that to compute the actual error value (which is required only for analysis), the\n",
    "book\n",
    "uses a population of \"Direct\" mode neurons. In Nengo 2.0, this can be done more\n",
    "efficiently\n",
    "using a `nengo.Node()`.\n",
    "\n",
    "When you run the model, you will see that the `post` population gradually learns to\n",
    "compute the communication channel. In the model, you will inhibit the error population\n",
    "after 15 seconds to turn off learning and you will see that the `post` population will\n",
    "still track the `pre` population showing that the model has actually learned the input.\n",
    "\n",
    "The model can also learn other functions by using an appropriate error signal. For\n",
    "example to learn a square function, comment out the lines\n",
    "marked `# Learn the communication channel` and uncomment the lines\n",
    "marked `# Learn the square function` in the code. Run the model again and you will\n",
    "see that the model successfully learns the square function."
   ]
  },
  {
   "cell_type": "code",
   "execution_count": null,
   "metadata": {},
   "outputs": [],
   "source": [
    "# Create the network object to which we can add ensembles, connections, etc.\n",
    "model = nengo.Network(label=\"Learning\", seed=7)\n",
    "with model:\n",
    "    # Ensembles to represent populations\n",
    "    pre = nengo.Ensemble(50, dimensions=1, label=\"Pre\")\n",
    "    post = nengo.Ensemble(50, dimensions=1, label=\"Post\")\n",
    "\n",
    "    # Ensemble to compute the learning error signal\n",
    "    error = nengo.Ensemble(100, dimensions=1, label=\"Learning Error\")\n",
    "\n",
    "    # Node to compute the actual error value\n",
    "    actual_error = nengo.Node(size_in=1, label=\"Actual Error\")\n",
    "\n",
    "    # Learn the communication channel\n",
    "    nengo.Connection(pre, actual_error, transform=-1)\n",
    "    nengo.Connection(pre, error, transform=-1, synapse=0.02)\n",
    "\n",
    "    # Learn the square function\n",
    "    # nengo.Connection(pre, actual_error, function=lambda x: x**2, transform=-1)\n",
    "    # nengo.Connection(pre, error, function=lambda x: x**2, transform=-1)\n",
    "\n",
    "    # Error = pre - post\n",
    "    nengo.Connection(post, actual_error, transform=1)\n",
    "    nengo.Connection(post, error, transform=1, synapse=0.02)\n",
    "\n",
    "    # Connecting pre population to post population (communication channel)\n",
    "    conn = nengo.Connection(\n",
    "        pre,\n",
    "        post,\n",
    "        function=lambda x: np.random.random(1),\n",
    "        solver=nengo.solvers.LstsqL2(weights=True),\n",
    "    )\n",
    "\n",
    "    # Adding the learning rule to the connection\n",
    "    conn.learning_rule_type = {\n",
    "        \"my_pes\": nengo.PES(),\n",
    "        \"my_bcm\": nengo.BCM(learning_rate=1e-10),\n",
    "    }\n",
    "\n",
    "    # Error connections don't impart current\n",
    "    error_conn = nengo.Connection(error, conn.learning_rule[\"my_pes\"])\n",
    "\n",
    "    # Providing input to the model\n",
    "    stim = nengo.Node(WhiteSignal(30, high=10), label=\"Input\")  # RMS = 0.5 by default\n",
    "    nengo.Connection(stim, pre, synapse=0.02)  # Connect the input to the pre ensemble\n",
    "\n",
    "    # Function to inhibit the error population after 15s\n",
    "    def inhib(t):\n",
    "        return 2.0 if t > 15.0 else 0.0\n",
    "\n",
    "    # Connecting inhibit population to error population\n",
    "    inhibit = nengo.Node(inhib, label=\"Inhibit\")\n",
    "    nengo.Connection(\n",
    "        inhibit, error.neurons, transform=[[-3]] * error.n_neurons, synapse=0.01\n",
    "    )"
   ]
  },
  {
   "cell_type": "markdown",
   "metadata": {},
   "source": [
    "## Run the Model"
   ]
  },
  {
   "cell_type": "code",
   "execution_count": null,
   "metadata": {},
   "outputs": [],
   "source": [
    "# Import the nengo_gui visualizer to run and visualize the model.\n",
    "from nengo_gui.ipython import IPythonViz\n",
    "\n",
    "IPythonViz(model, \"ch6-learn.py.cfg\")"
   ]
  },
  {
   "cell_type": "markdown",
   "metadata": {},
   "source": [
    "Press the play button in the visualizer to run the simulation. You should see the graphs\n",
    "as shown in the figure below.\n",
    "\n",
    "You will see that the `Post` population doesn't initially track the `Pre` population but\n",
    "eventually it learns the function (which is a communication channel in this case) and\n",
    "starts tracking the post population. After the `Error` ensemble is inhibited (i.e., t >\n",
    "15s -- shown by a value of zero on the `Learned Error` plot), the `Post` population\n",
    "continues to track the `Pre` population.\n",
    "\n",
    "The `Actual Error` graph shows that there is significant error between the `Pre`\n",
    "and the `Post` populations at the beginning which eventually gets reduced\n",
    "as model learns the communication channel."
   ]
  },
  {
   "cell_type": "code",
   "execution_count": null,
   "metadata": {},
   "outputs": [],
   "source": [
    "from IPython.display import Image\n",
    "\n",
    "Image(filename=\"ch6-learn.png\")"
   ]
  }
 ],
 "metadata": {
  "language_info": {
   "name": "python",
   "pygments_lexer": "ipython3"
  }
 },
 "nbformat": 4,
 "nbformat_minor": 1
}
