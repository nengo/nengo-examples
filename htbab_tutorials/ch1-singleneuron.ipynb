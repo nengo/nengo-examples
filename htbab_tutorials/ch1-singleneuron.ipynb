{
 "cells": [
  {
   "cell_type": "markdown",
   "metadata": {},
   "source": [
    "# A Single Neuron Model\n",
    "\n",
    "All models in nengo are built inside \"networks\". Inside a network, you can put more\n",
    "networks, and you can connect networks to each other. You can also put other objects\n",
    "such as neural populations or \"ensembles\" (which have individual neurons inside of them)\n",
    "inside the networks. For this model, you will make a network with one neuron."
   ]
  },
  {
   "cell_type": "code",
   "execution_count": null,
   "metadata": {},
   "outputs": [],
   "source": [
    "# Setup the environment\n",
    "import numpy as np\n",
    "import nengo"
   ]
  },
  {
   "cell_type": "markdown",
   "metadata": {},
   "source": [
    "## Create the Model"
   ]
  },
  {
   "cell_type": "markdown",
   "metadata": {},
   "source": [
    "This model has parameters as described in the book, ensuring that it is an \"on\" neuron.\n",
    "The neuron will be slightly different each time you run this script, as many parameters\n",
    "are randomly chosen."
   ]
  },
  {
   "cell_type": "code",
   "execution_count": null,
   "metadata": {},
   "outputs": [],
   "source": [
    "# Create the network object to which we can add ensembles, connections, etc.\n",
    "model = nengo.Network(label=\"A Single Neuron\")\n",
    "\n",
    "with model:\n",
    "    # Input to drive the neuron\n",
    "    stim = nengo.Node(lambda t: np.cos(16 * t))\n",
    "\n",
    "    # Ensemble with one neuron\n",
    "    neuron = nengo.Ensemble(\n",
    "        1, dimensions=1, encoders=[[1]]  # Represent a scalar\n",
    "    )  # Sets the neurons firing rate to increase for positive input\n",
    "\n",
    "    # Connecting input to ensemble\n",
    "    nengo.Connection(stim, neuron)"
   ]
  },
  {
   "cell_type": "markdown",
   "metadata": {},
   "source": [
    "## Run the Model"
   ]
  },
  {
   "cell_type": "markdown",
   "metadata": {},
   "source": [
    "In order to run the model, import the `nengo_gui` visualizer as follows."
   ]
  },
  {
   "cell_type": "code",
   "execution_count": null,
   "metadata": {},
   "outputs": [],
   "source": [
    "from nengo_gui.ipython import IPythonViz\n",
    "\n",
    "IPythonViz(model, \"ch1-singleneuron.py.cfg\")"
   ]
  },
  {
   "cell_type": "markdown",
   "metadata": {},
   "source": [
    "Press the play button in the visualizer to run the simulation. You should see the graphs\n",
    "as shown in the figure below.\n",
    "\n",
    "The graph on the top left shows the input signal and the graph on the top right shows\n",
    "the value represented by the neuron. The filtered spikes from the neuron are shown in\n",
    "the graph on the bottom right."
   ]
  },
  {
   "cell_type": "code",
   "execution_count": null,
   "metadata": {},
   "outputs": [],
   "source": [
    "from IPython.display import Image\n",
    "\n",
    "Image(filename=\"ch1-singleneuron.png\")"
   ]
  }
 ],
 "metadata": {
  "language_info": {
   "name": "python",
   "pygments_lexer": "ipython3"
  }
 },
 "nbformat": 4,
 "nbformat_minor": 1
}
