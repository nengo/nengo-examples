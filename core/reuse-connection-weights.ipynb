{
 "cells": [
  {
   "cell_type": "markdown",
   "metadata": {},
   "source": [
    "This example shows how to reuse weights that have been learned with online learning for\n",
    "use in another networks. It assumes that you've already gone through and understood the\n",
    "[heteroassociative memory learning\n",
    "example](https://pythonhosted.org/nengo/examples/learn_associations.html).\n",
    "\n",
    "First create the network as shown in the aforementioned heteroassociative memory\n",
    "example."
   ]
  },
  {
   "cell_type": "code",
   "execution_count": null,
   "metadata": {},
   "outputs": [],
   "source": [
    "%matplotlib inline\n",
    "import matplotlib.pyplot as plt\n",
    "import numpy as np\n",
    "import nengo"
   ]
  },
  {
   "cell_type": "code",
   "execution_count": null,
   "metadata": {},
   "outputs": [],
   "source": [
    "num_items = 5\n",
    "\n",
    "d_key = 2\n",
    "d_value = 4\n",
    "SEED = 7\n",
    "\n",
    "rng = np.random.RandomState(seed=SEED)\n",
    "keys = nengo.dists.UniformHypersphere(surface=True).sample(num_items, d_key, rng=rng)\n",
    "values = nengo.dists.UniformHypersphere(surface=False).sample(\n",
    "    num_items, d_value, rng=rng\n",
    ")\n",
    "\n",
    "intercept = (np.dot(keys, keys.T) - np.eye(num_items)).flatten().max()\n",
    "\n",
    "\n",
    "def cycle_array(x, cycle_period, cycle_dt=0.001):\n",
    "    \"\"\"Cycles through the elements\"\"\"\n",
    "    i_every = int(round(cycle_period / cycle_dt))\n",
    "    if i_every != cycle_period / cycle_dt:\n",
    "        raise ValueError(f\"dt ({cycle_dt}) does not divide period ({cycle_period})\")\n",
    "\n",
    "    def f(t):\n",
    "        i = int(round((t - cycle_dt) / cycle_dt))  # t starts at dt\n",
    "        idx = (i // i_every) % len(x)\n",
    "        return x[idx]\n",
    "\n",
    "    return f\n",
    "\n",
    "\n",
    "# Model constants\n",
    "n_neurons = 200\n",
    "dt = 0.001\n",
    "period = 0.3\n",
    "T = period * num_items\n",
    "sample_every = 0.01\n",
    "\n",
    "\n",
    "with nengo.Network() as train_model:\n",
    "\n",
    "    # Create the inputs/outputs\n",
    "    stim_keys = nengo.Node(cycle_array(keys, period, dt))\n",
    "    stim_values = nengo.Node(cycle_array(values, period, dt))\n",
    "    # Turn learning permanently on\n",
    "    learning = nengo.Node([0])\n",
    "    recall = nengo.Node(size_in=d_value)\n",
    "\n",
    "    # Create the memory with a seed, so we can create the same ensemble again\n",
    "    # in the new network\n",
    "    memory = nengo.Ensemble(\n",
    "        n_neurons, d_key, intercepts=[intercept] * n_neurons, seed=SEED\n",
    "    )\n",
    "\n",
    "    # Learn the encoders/keys\n",
    "    voja = nengo.Voja(post_synapse=None, learning_rate=5e-2)\n",
    "    conn_in = nengo.Connection(stim_keys, memory, synapse=None, learning_rule_type=voja)\n",
    "    nengo.Connection(learning, conn_in.learning_rule, synapse=None)\n",
    "\n",
    "    # Learn the decoders/values, initialized to a null function\n",
    "    conn_out = nengo.Connection(\n",
    "        memory,\n",
    "        recall,\n",
    "        learning_rule_type=nengo.PES(1e-3),\n",
    "        function=lambda x: np.zeros(d_value),\n",
    "    )\n",
    "\n",
    "    # Create the error population\n",
    "    error = nengo.Ensemble(n_neurons, d_value)\n",
    "    nengo.Connection(\n",
    "        learning, error.neurons, transform=[[10.0]] * n_neurons, synapse=None\n",
    "    )\n",
    "\n",
    "    # Calculate the error and use it to drive the PES rule\n",
    "    nengo.Connection(stim_values, error, transform=-1, synapse=None)\n",
    "    nengo.Connection(recall, error, synapse=None)\n",
    "    nengo.Connection(error, conn_out.learning_rule)"
   ]
  },
  {
   "cell_type": "markdown",
   "metadata": {},
   "source": [
    "Instead of probing the usual outputs of the network, we're going to probe the weights so\n",
    "we can transfer them to our new network. We could still probe the input and outputs to\n",
    "verify the network is functioning, but for now, we're just going to assume it works."
   ]
  },
  {
   "cell_type": "code",
   "execution_count": null,
   "metadata": {},
   "outputs": [],
   "source": [
    "with train_model:\n",
    "    # Setup probes to save the weights\n",
    "    p_dec = nengo.Probe(conn_out, \"weights\", sample_every=sample_every)\n",
    "    p_enc = nengo.Probe(memory, \"scaled_encoders\", sample_every=sample_every)"
   ]
  },
  {
   "cell_type": "code",
   "execution_count": null,
   "metadata": {},
   "outputs": [],
   "source": [
    "# run the model and retrieve the encoders and decoders\n",
    "with nengo.Simulator(train_model, dt=dt) as train_sim:\n",
    "    train_sim.run(T)\n",
    "\n",
    "enc = train_sim.data[p_enc][-1]\n",
    "dec = train_sim.data[p_dec][-1]"
   ]
  },
  {
   "cell_type": "markdown",
   "metadata": {},
   "source": [
    "We'll now insert the encoders and decoders we gathered into our new network and verify\n",
    "that our network works the same as the old one. One important thing to note is that we\n",
    "`seed` parameter of the `memory` the same way as the last network to make sure we're\n",
    "dealing with the same neurons."
   ]
  },
  {
   "cell_type": "code",
   "execution_count": null,
   "metadata": {},
   "outputs": [],
   "source": [
    "with nengo.Network() as test_model:\n",
    "\n",
    "    # Create the inputs/outputs\n",
    "    stim_keys = nengo.Node(cycle_array(keys, period, dt))\n",
    "    stim_values = nengo.Node(cycle_array(values, period, dt))\n",
    "    # Turn learning off to show that our network still works\n",
    "    learning = nengo.Node([-1])\n",
    "    recall = nengo.Node(size_in=d_value)\n",
    "\n",
    "    # Create the memory with the new encoders\n",
    "    memory = nengo.Ensemble(\n",
    "        n_neurons,\n",
    "        d_key,\n",
    "        intercepts=[intercept] * n_neurons,\n",
    "        encoders=enc,\n",
    "        n_eval_points=0,\n",
    "        seed=SEED,\n",
    "    )\n",
    "\n",
    "    nengo.Connection(stim_keys, memory, synapse=None)\n",
    "\n",
    "    # Create the connection out with the new decoders\n",
    "    conn_out = nengo.Connection(memory.neurons, recall, transform=dec)\n",
    "\n",
    "    # Setup probes\n",
    "    p_val = nengo.Probe(stim_values, synapse=0.005)\n",
    "    p_recall = nengo.Probe(recall, synapse=0.005)"
   ]
  },
  {
   "cell_type": "code",
   "execution_count": null,
   "metadata": {},
   "outputs": [],
   "source": [
    "# run the network and plot the results for verification\n",
    "with nengo.Simulator(test_model, dt=dt) as test_sim:\n",
    "    test_sim.run(T)"
   ]
  },
  {
   "cell_type": "code",
   "execution_count": null,
   "metadata": {},
   "outputs": [],
   "source": [
    "plt.plot(test_sim.trange(), test_sim.data[p_val])\n",
    "plt.title(\"Expected\")\n",
    "plt.xlabel(\"Time (s)\")\n",
    "\n",
    "plt.figure()\n",
    "\n",
    "plt.plot(test_sim.trange(), test_sim.data[p_recall])\n",
    "plt.title(\"Recalled\")\n",
    "plt.xlabel(\"Time (s)\")\n",
    "\n",
    "plt.show()"
   ]
  },
  {
   "cell_type": "markdown",
   "metadata": {},
   "source": [
    "The values output by our memory match our expected values. Our connection weight\n",
    "transfer worked!"
   ]
  }
 ],
 "metadata": {
  "language_info": {
   "name": "python",
   "pygments_lexer": "ipython3"
  }
 },
 "nbformat": 4,
 "nbformat_minor": 1
}
