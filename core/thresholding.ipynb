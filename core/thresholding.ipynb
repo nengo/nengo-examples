{
 "cells": [
  {
   "cell_type": "markdown",
   "id": "b4efba4b",
   "metadata": {},
   "source": [
    "# Setting a minimum activity threshold"
   ]
  },
  {
   "cell_type": "code",
   "execution_count": null,
   "id": "9e6cd7d1",
   "metadata": {},
   "outputs": [],
   "source": [
    "%matplotlib inline\n",
    "import matplotlib.pyplot as plt\n",
    "import nengo"
   ]
  },
  {
   "cell_type": "code",
   "execution_count": null,
   "id": "d64aa4b3",
   "metadata": {},
   "outputs": [],
   "source": [
    "# create a configuration for a threshold of 0.3\n",
    "threshold = 0.4\n",
    "thresh_config = nengo.presets.ThresholdingEnsembles(threshold)\n",
    "\n",
    "with nengo.Network() as model:\n",
    "    # make a cycling ramp input to show the threshold is working\n",
    "    in_node = nengo.Node(lambda t: t % 1)\n",
    "\n",
    "    # make an ensemble with the thresholding configuration\n",
    "    with thresh_config:\n",
    "        thresh_ens = nengo.Ensemble(100, 1)\n",
    "\n",
    "    nengo.Connection(in_node, thresh_ens)\n",
    "    in_probe = nengo.Probe(in_node)\n",
    "    ens_probe = nengo.Probe(thresh_ens, synapse=0.01)"
   ]
  },
  {
   "cell_type": "code",
   "execution_count": null,
   "id": "9f5a9dfb",
   "metadata": {},
   "outputs": [],
   "source": [
    "with nengo.Simulator(model) as sim:\n",
    "    sim.run(1.0)"
   ]
  },
  {
   "cell_type": "code",
   "execution_count": null,
   "id": "8e86d0d2",
   "metadata": {},
   "outputs": [],
   "source": [
    "plt.plot(sim.trange(), sim.data[in_probe], label=\"Input\")\n",
    "plt.plot(sim.trange(), sim.data[ens_probe], label=\"Ensemble output\")\n",
    "plt.axhline(threshold, c=\"0.5\", lw=0.5)\n",
    "plt.axvline(threshold, c=\"0.5\", lw=0.5)\n",
    "plt.legend(loc=\"best\")"
   ]
  }
 ],
 "metadata": {
  "language_info": {
   "name": "python",
   "pygments_lexer": "ipython3"
  }
 },
 "nbformat": 4,
 "nbformat_minor": 5
}
