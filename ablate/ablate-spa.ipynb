{
 "cells": [
  {
   "cell_type": "markdown",
   "metadata": {},
   "source": [
    "# Ablating neurons in a SPA model\n",
    "\n",
    "The model used here is a SPA model that goes through\n",
    "a set sequence of semantic pointers,\n",
    "as shown in\n",
    "[this core Nengo example](https://www.nengo.ai/nengo/examples/spa_sequence.html).\n",
    "\n",
    "This is primarily a demonstration of how to apply the `ablate_ensemble` function\n",
    "to all the ensembles in a network or SPA module.\n",
    "If you haven't gone through the `ablate_ensemble` example\n",
    "in this directory, go through that example first."
   ]
  },
  {
   "cell_type": "code",
   "execution_count": null,
   "metadata": {},
   "outputs": [],
   "source": [
    "%matplotlib inline\n",
    "import numpy as np\n",
    "import matplotlib.pyplot as plt\n",
    "import nengo\n",
    "from nengo import spa"
   ]
  },
  {
   "cell_type": "code",
   "execution_count": null,
   "metadata": {},
   "outputs": [],
   "source": [
    "dimensions = 16\n",
    "\n",
    "\n",
    "def start(t):\n",
    "    if t < 0.05:\n",
    "        return \"A\"\n",
    "    else:\n",
    "        return \"0\"\n",
    "\n",
    "\n",
    "with spa.SPA() as model:\n",
    "    model.cortex = spa.Buffer(dimensions=dimensions)\n",
    "    actions = spa.Actions(\n",
    "        \"dot(cortex, A) --> cortex = B\",\n",
    "        \"dot(cortex, B) --> cortex = C\",\n",
    "        \"dot(cortex, C) --> cortex = D\",\n",
    "        \"dot(cortex, D) --> cortex = E\",\n",
    "        \"dot(cortex, E) --> cortex = A\",\n",
    "    )\n",
    "    model.bg = spa.BasalGanglia(actions=actions)\n",
    "    model.thal = spa.Thalamus(model.bg)\n",
    "    model.input = spa.Input(cortex=start)\n",
    "\n",
    "    cortex = nengo.Probe(model.cortex.state.output, synapse=0.01)\n",
    "    actions = nengo.Probe(model.thal.actions.output, synapse=0.01)\n",
    "    utility = nengo.Probe(model.bg.input, synapse=0.01)"
   ]
  },
  {
   "cell_type": "code",
   "execution_count": null,
   "metadata": {},
   "outputs": [],
   "source": [
    "with nengo.Simulator(model) as sim:\n",
    "    sim.run(0.5)"
   ]
  },
  {
   "cell_type": "code",
   "execution_count": null,
   "metadata": {},
   "outputs": [],
   "source": [
    "def plot():\n",
    "    fig = plt.figure(figsize=(12, 8))\n",
    "    p1 = fig.add_subplot(3, 1, 1)\n",
    "\n",
    "    p1.plot(sim.trange(), model.similarity(sim.data, cortex))\n",
    "    p1.legend(model.get_output_vocab(\"cortex\").keys, fontsize=\"x-small\")\n",
    "    p1.set_ylabel(\"State\")\n",
    "\n",
    "    p2 = fig.add_subplot(3, 1, 2)\n",
    "    p2.plot(sim.trange(), sim.data[actions])\n",
    "    p2_legend_txt = [a.effect for a in model.bg.actions.actions]\n",
    "    p2.legend(p2_legend_txt, fontsize=\"x-small\")\n",
    "    p2.set_ylabel(\"Action\")\n",
    "\n",
    "    p3 = fig.add_subplot(3, 1, 3)\n",
    "    p3.plot(sim.trange(), sim.data[utility])\n",
    "    p3_legend_txt = [a.condition for a in model.bg.actions.actions]\n",
    "    p3.legend(p3_legend_txt, fontsize=\"x-small\")\n",
    "    p3.set_ylabel(\"Utility\")\n",
    "\n",
    "    fig.subplots_adjust(hspace=0.2)\n",
    "\n",
    "\n",
    "plot()"
   ]
  },
  {
   "cell_type": "markdown",
   "metadata": {},
   "source": [
    "We will use the same `ablate_ensemble` function as before."
   ]
  },
  {
   "cell_type": "code",
   "execution_count": null,
   "metadata": {},
   "outputs": [],
   "source": [
    "def ablate_ensemble(ens, proportion, sim, bias=True):\n",
    "    \"\"\"Ablate a proportion of the neurons in an ensemble.\n",
    "\n",
    "    The ablation is done by setting the encoder and gain associated\n",
    "    with a neuron to zero. Since no input current being injected,\n",
    "    the neuron will generally be silent. However, if there is direct\n",
    "    current injected with a neuron-to-neuron connection, then the\n",
    "    cell may still fire. To counter that in most cases, we set the\n",
    "    bias associated with the neuron to a large negative value.\n",
    "    \"\"\"\n",
    "\n",
    "    n_neurons = min(int(ens.n_neurons * proportion), ens.n_neurons)\n",
    "    idx = np.random.choice(np.arange(ens.n_neurons), replace=False, size=n_neurons)\n",
    "\n",
    "    encoder_sig = sim.signals[sim.model.sig[ens][\"encoders\"]]\n",
    "    encoder_sig.setflags(write=True)\n",
    "    encoder_sig[idx] = 0.0\n",
    "    encoder_sig.setflags(write=False)\n",
    "\n",
    "    if bias:\n",
    "        bias_sig = sim.signals[sim.model.sig[ens.neurons][\"bias\"]]\n",
    "        bias_sig.setflags(write=True)\n",
    "        bias_sig[idx] = -1000"
   ]
  },
  {
   "cell_type": "markdown",
   "metadata": {},
   "source": [
    "This time, however, instead of applying it to a single ensemble,\n",
    "we will apply it to all of the ensembles in a SPA module.\n",
    "\n",
    "We can therefore see the effects of ablation in different\n",
    "parts of the model. Let's see what happens when ablating\n",
    "25% of the neurons in the cortex."
   ]
  },
  {
   "cell_type": "code",
   "execution_count": null,
   "metadata": {},
   "outputs": [],
   "source": [
    "with nengo.Simulator(model) as sim:\n",
    "    for ens in model.cortex.all_ensembles:\n",
    "        ablate_ensemble(ens, 0.25, sim)\n",
    "    sim.run(0.5)\n",
    "plot()"
   ]
  },
  {
   "cell_type": "markdown",
   "metadata": {},
   "source": [
    "In some cases, the sequence stops after some time, which is interesting!\n",
    "\n",
    "It saves us a tiny bit of typing to make a helper function\n",
    "to ablate whole networks (or SPA modules).\n",
    "So let's do that, then look at the effects of ablating\n",
    "the other parts of the model."
   ]
  },
  {
   "cell_type": "code",
   "execution_count": null,
   "metadata": {},
   "outputs": [],
   "source": [
    "def ablate_network(net, proportion, sim, bias=True):\n",
    "    \"\"\"Ablate a proportion of the neurons in all ensembles in a network.\"\"\"\n",
    "    for ens in net.all_ensembles:\n",
    "        ablate_ensemble(ens, proportion, sim, bias=bias)"
   ]
  },
  {
   "cell_type": "code",
   "execution_count": null,
   "metadata": {},
   "outputs": [],
   "source": [
    "with nengo.Simulator(model) as sim:\n",
    "    ablate_network(model.bg, 0.25, sim)\n",
    "    sim.run(0.5)\n",
    "plot()"
   ]
  },
  {
   "cell_type": "code",
   "execution_count": null,
   "metadata": {},
   "outputs": [],
   "source": [
    "with nengo.Simulator(model) as sim:\n",
    "    ablate_network(model.thal, 0.25, sim)\n",
    "    sim.run(0.5)\n",
    "plot()"
   ]
  },
  {
   "cell_type": "markdown",
   "metadata": {},
   "source": [
    "Finally, let's look at what happens when we ablate\n",
    "25% of the neurons in the entire model."
   ]
  },
  {
   "cell_type": "code",
   "execution_count": null,
   "metadata": {},
   "outputs": [],
   "source": [
    "with nengo.Simulator(model) as sim:\n",
    "    ablate_network(model, 0.25, sim)\n",
    "    sim.run(0.5)\n",
    "plot()"
   ]
  },
  {
   "cell_type": "markdown",
   "metadata": {},
   "source": [
    "Not silencing the neurons seems to hurt performance,\n",
    "possibly due to the added noise of the random spikes."
   ]
  },
  {
   "cell_type": "code",
   "execution_count": null,
   "metadata": {},
   "outputs": [],
   "source": [
    "with nengo.Simulator(model) as sim:\n",
    "    ablate_network(model, 0.25, sim, bias=False)\n",
    "    sim.run(0.5)\n",
    "plot()"
   ]
  },
  {
   "cell_type": "markdown",
   "metadata": {},
   "source": [
    "To verify that this is indeed working as expected,\n",
    "we can ablate all of the neurons and confirm that\n",
    "there is no activity in the model."
   ]
  },
  {
   "cell_type": "code",
   "execution_count": null,
   "metadata": {},
   "outputs": [],
   "source": [
    "with nengo.Simulator(model) as sim:\n",
    "    ablate_network(model, 1, sim)\n",
    "    sim.run(0.5)\n",
    "plot()"
   ]
  }
 ],
 "metadata": {
  "language_info": {
   "name": "python",
   "pygments_lexer": "ipython3"
  }
 },
 "nbformat": 4,
 "nbformat_minor": 1
}
