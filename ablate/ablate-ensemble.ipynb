{
 "cells": [
  {
   "cell_type": "markdown",
   "metadata": {},
   "source": [
    "# Ablating neurons in an ensemble\n",
    "\n",
    "The model used here is a simple controlled integrator,\n",
    "as is shown in\n",
    "[this core Nengo\n",
    "example](https://www.nengo.ai/nengo/examples/dynamics/controlled-integrator.html)."
   ]
  },
  {
   "cell_type": "code",
   "execution_count": null,
   "metadata": {},
   "outputs": [],
   "source": [
    "%matplotlib inline\n",
    "import numpy as np\n",
    "import matplotlib.pyplot as plt\n",
    "import nengo\n",
    "from nengo.processes import Piecewise"
   ]
  },
  {
   "cell_type": "code",
   "execution_count": null,
   "metadata": {},
   "outputs": [],
   "source": [
    "with nengo.Network(label=\"Controlled Integrator\") as model:\n",
    "    input_func = Piecewise({0: 0, 0.2: 5, 0.3: 0, 0.44: -10, 0.54: 0, 0.8: 5, 0.9: 0})\n",
    "    control_func = Piecewise({0: 1, 0.6: 0.5})\n",
    "\n",
    "    tau = 0.1\n",
    "\n",
    "    stim = nengo.Node(input_func)\n",
    "    control = nengo.Node(output=control_func)\n",
    "    ens = nengo.Ensemble(225, dimensions=2, radius=1.5)\n",
    "    nengo.Connection(stim, ens, transform=[[tau], [0]], synapse=tau)\n",
    "    nengo.Connection(control, ens[1])\n",
    "\n",
    "    nengo.Connection(ens, ens[0], function=lambda x: x[0] * x[1], synapse=tau)\n",
    "\n",
    "    ens_probe = nengo.Probe(ens, synapse=0.01)"
   ]
  },
  {
   "cell_type": "code",
   "execution_count": null,
   "metadata": {},
   "outputs": [],
   "source": [
    "with nengo.Simulator(model) as sim:\n",
    "    sim.run(1.4)"
   ]
  },
  {
   "cell_type": "code",
   "execution_count": null,
   "metadata": {},
   "outputs": [],
   "source": [
    "def plot():\n",
    "    t = sim.trange()\n",
    "    input_sig = input_func.run(sim.time)\n",
    "    control_sig = control_func.run(sim.time)\n",
    "    ref = sim.dt * np.cumsum(input_sig)\n",
    "\n",
    "    plt.figure(figsize=(6, 8))\n",
    "    plt.subplot(2, 1, 1)\n",
    "    plt.plot(t, input_sig, label=\"Input signal\")\n",
    "    plt.plot(t, control_sig, label=\"Control signal\")\n",
    "    plt.xlim(right=t[-1])\n",
    "    plt.ylim(-11, 11)\n",
    "    plt.ylabel(\"Input\")\n",
    "    plt.legend(loc=\"lower left\", frameon=False)\n",
    "\n",
    "    plt.subplot(2, 1, 2)\n",
    "    plt.plot(t, ref, \"k--\", label=\"Exact\")\n",
    "    plt.plot(t, sim.data[ens_probe][:, 0], label=\"A (value)\")\n",
    "    plt.plot(t, sim.data[ens_probe][:, 1], label=\"A (control)\")\n",
    "    plt.xlim(right=t[-1])\n",
    "    plt.ylim(-1.1, 1.1)\n",
    "    plt.xlabel(\"Time (s)\")\n",
    "    plt.ylabel(\"x(t)\")\n",
    "    plt.legend(loc=\"lower left\", frameon=False)\n",
    "\n",
    "\n",
    "plot()"
   ]
  },
  {
   "cell_type": "markdown",
   "metadata": {},
   "source": [
    "The model is composed primarily of a single two-dimensional ensemble.\n",
    "The first dimension takes in input;\n",
    "the second dimension is a control signal.\n",
    "The ensemble is recurrently connected such that\n",
    "the ensemble integrates the input signal\n",
    "in its first dimension,\n",
    "as long as the control dimension is near 1.\n",
    "As can be seen above, it performs as expected."
   ]
  },
  {
   "cell_type": "markdown",
   "metadata": {},
   "source": [
    "We can emulate the effects of ablating neurons in an ensemble\n",
    "(or, equivalently, the input connections to those neurons)\n",
    "by setting the encoder associated with them to 0.\n",
    "If we wish to fully ablate the neurons\n",
    "and silence them entirely,\n",
    "we can inject a constant negative current into them.\n",
    "We'll make a helper function so that we can do this\n",
    "for any ensemble."
   ]
  },
  {
   "cell_type": "code",
   "execution_count": null,
   "metadata": {},
   "outputs": [],
   "source": [
    "def ablate_ensemble(ens, proportion, sim, bias=True):\n",
    "    \"\"\"Ablate a proportion of the neurons in an ensemble.\n",
    "\n",
    "    The ablation is done by setting the encoder and gain associated\n",
    "    with a neuron to zero. Since no input current being injected,\n",
    "    the neuron will generally be silent. However, if there is direct\n",
    "    current injected with a neuron-to-neuron connection, then the\n",
    "    cell may still fire. To counter that in most cases, we set the\n",
    "    bias associated with the neuron to a large negative value.\n",
    "    \"\"\"\n",
    "\n",
    "    n_neurons = min(int(ens.n_neurons * proportion), ens.n_neurons)\n",
    "    idx = np.random.choice(np.arange(ens.n_neurons), replace=False, size=n_neurons)\n",
    "\n",
    "    encoder_sig = sim.signals[sim.model.sig[ens][\"encoders\"]]\n",
    "    encoder_sig.setflags(write=True)\n",
    "    encoder_sig[idx] = 0.0\n",
    "    encoder_sig.setflags(write=False)\n",
    "\n",
    "    if bias:\n",
    "        bias_sig = sim.signals[sim.model.sig[ens.neurons][\"bias\"]]\n",
    "        bias_sig.setflags(write=True)\n",
    "        bias_sig[idx] = -1000"
   ]
  },
  {
   "cell_type": "markdown",
   "metadata": {},
   "source": [
    "Note that this function requires a built `Simulator`.\n",
    "This is because decoders are determined during\n",
    "the build process, and do not exist when the model\n",
    "is originally specified.\n",
    "\n",
    "Let's see the effects of ablating 1% of the 225 neurons\n",
    "in the ensemble."
   ]
  },
  {
   "cell_type": "code",
   "execution_count": null,
   "metadata": {},
   "outputs": [],
   "source": [
    "with nengo.Simulator(model) as sim:\n",
    "    ablate_ensemble(ens, 0.01, sim)\n",
    "    sim.run(1.4)\n",
    "plot()"
   ]
  },
  {
   "cell_type": "markdown",
   "metadata": {},
   "source": [
    "Not much happened. Let's bump this up to 10% of the 225 neurons."
   ]
  },
  {
   "cell_type": "code",
   "execution_count": null,
   "metadata": {},
   "outputs": [],
   "source": [
    "with nengo.Simulator(model) as sim:\n",
    "    ablate_ensemble(ens, 0.1, sim)\n",
    "    sim.run(1.4)\n",
    "plot()"
   ]
  },
  {
   "cell_type": "markdown",
   "metadata": {},
   "source": [
    "Still not bad, but getting worse. How about 25%?"
   ]
  },
  {
   "cell_type": "code",
   "execution_count": null,
   "metadata": {},
   "outputs": [],
   "source": [
    "with nengo.Simulator(model) as sim:\n",
    "    ablate_ensemble(ens, 0.25, sim)\n",
    "    sim.run(1.4)\n",
    "plot()"
   ]
  },
  {
   "cell_type": "markdown",
   "metadata": {},
   "source": [
    "To verify that this is indeed working as expected,\n",
    "we can ablate all of the neurons and confirm that\n",
    "there is no activity in the ensemble."
   ]
  },
  {
   "cell_type": "code",
   "execution_count": null,
   "metadata": {},
   "outputs": [],
   "source": [
    "with nengo.Simulator(model) as sim:\n",
    "    ablate_ensemble(ens, 1.0, sim)\n",
    "    sim.run(1.4)\n",
    "plot()"
   ]
  },
  {
   "cell_type": "markdown",
   "metadata": {},
   "source": [
    "If we remove the negative bias current,\n",
    "we can see that the neurons still have background activity,\n",
    "but do not respond to input."
   ]
  },
  {
   "cell_type": "code",
   "execution_count": null,
   "metadata": {},
   "outputs": [],
   "source": [
    "with nengo.Simulator(model) as sim:\n",
    "    ablate_ensemble(ens, 1.0, sim, bias=False)\n",
    "    sim.run(1.4)\n",
    "plot()"
   ]
  }
 ],
 "metadata": {
  "language_info": {
   "name": "python",
   "pygments_lexer": "ipython3"
  }
 },
 "nbformat": 4,
 "nbformat_minor": 1
}
